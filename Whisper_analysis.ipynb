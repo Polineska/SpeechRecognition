{
  "nbformat": 4,
  "nbformat_minor": 0,
  "metadata": {
    "colab": {
      "provenance": [],
      "gpuType": "T4",
      "mount_file_id": "1r9c37tdATHfjKggXBynxIutg_hqlXVRE",
      "authorship_tag": "ABX9TyPEoon5b9EvGvsr/ZJWshtG",
      "include_colab_link": true
    },
    "kernelspec": {
      "name": "python3",
      "display_name": "Python 3"
    },
    "language_info": {
      "name": "python"
    },
    "accelerator": "GPU",
    "widgets": {
      "application/vnd.jupyter.widget-state+json": {
        "39270c6ae19644b0a34c1fcec37f708d": {
          "model_module": "@jupyter-widgets/controls",
          "model_name": "HBoxModel",
          "model_module_version": "1.5.0",
          "state": {
            "_dom_classes": [],
            "_model_module": "@jupyter-widgets/controls",
            "_model_module_version": "1.5.0",
            "_model_name": "HBoxModel",
            "_view_count": null,
            "_view_module": "@jupyter-widgets/controls",
            "_view_module_version": "1.5.0",
            "_view_name": "HBoxView",
            "box_style": "",
            "children": [
              "IPY_MODEL_e2c2945fa0eb4d76aa1a797c66edeb82",
              "IPY_MODEL_96885dad84bd4116bd57e61f90451110",
              "IPY_MODEL_d64b5493da05496bbebc032e8685a7f6"
            ],
            "layout": "IPY_MODEL_35140bfe1da74b8eb5fb58931d754538"
          }
        },
        "e2c2945fa0eb4d76aa1a797c66edeb82": {
          "model_module": "@jupyter-widgets/controls",
          "model_name": "HTMLModel",
          "model_module_version": "1.5.0",
          "state": {
            "_dom_classes": [],
            "_model_module": "@jupyter-widgets/controls",
            "_model_module_version": "1.5.0",
            "_model_name": "HTMLModel",
            "_view_count": null,
            "_view_module": "@jupyter-widgets/controls",
            "_view_module_version": "1.5.0",
            "_view_name": "HTMLView",
            "description": "",
            "description_tooltip": null,
            "layout": "IPY_MODEL_4b48ee35b4f64328a642ff80114d9810",
            "placeholder": "​",
            "style": "IPY_MODEL_78237d294aeb410eaf5795c007e30797",
            "value": "100%"
          }
        },
        "96885dad84bd4116bd57e61f90451110": {
          "model_module": "@jupyter-widgets/controls",
          "model_name": "FloatProgressModel",
          "model_module_version": "1.5.0",
          "state": {
            "_dom_classes": [],
            "_model_module": "@jupyter-widgets/controls",
            "_model_module_version": "1.5.0",
            "_model_name": "FloatProgressModel",
            "_view_count": null,
            "_view_module": "@jupyter-widgets/controls",
            "_view_module_version": "1.5.0",
            "_view_name": "ProgressView",
            "bar_style": "success",
            "description": "",
            "description_tooltip": null,
            "layout": "IPY_MODEL_c822e0391a3f47c785678947b9a3200f",
            "max": 164,
            "min": 0,
            "orientation": "horizontal",
            "style": "IPY_MODEL_9763303a62d7485eb87ad88414c4d3f8",
            "value": 164
          }
        },
        "d64b5493da05496bbebc032e8685a7f6": {
          "model_module": "@jupyter-widgets/controls",
          "model_name": "HTMLModel",
          "model_module_version": "1.5.0",
          "state": {
            "_dom_classes": [],
            "_model_module": "@jupyter-widgets/controls",
            "_model_module_version": "1.5.0",
            "_model_name": "HTMLModel",
            "_view_count": null,
            "_view_module": "@jupyter-widgets/controls",
            "_view_module_version": "1.5.0",
            "_view_name": "HTMLView",
            "description": "",
            "description_tooltip": null,
            "layout": "IPY_MODEL_78fec6ce93ef47818d104385137338bb",
            "placeholder": "​",
            "style": "IPY_MODEL_d66f2833b3b04126b069d15eadecf463",
            "value": " 164/164 [02:20&lt;00:00,  1.31s/it]"
          }
        },
        "35140bfe1da74b8eb5fb58931d754538": {
          "model_module": "@jupyter-widgets/base",
          "model_name": "LayoutModel",
          "model_module_version": "1.2.0",
          "state": {
            "_model_module": "@jupyter-widgets/base",
            "_model_module_version": "1.2.0",
            "_model_name": "LayoutModel",
            "_view_count": null,
            "_view_module": "@jupyter-widgets/base",
            "_view_module_version": "1.2.0",
            "_view_name": "LayoutView",
            "align_content": null,
            "align_items": null,
            "align_self": null,
            "border": null,
            "bottom": null,
            "display": null,
            "flex": null,
            "flex_flow": null,
            "grid_area": null,
            "grid_auto_columns": null,
            "grid_auto_flow": null,
            "grid_auto_rows": null,
            "grid_column": null,
            "grid_gap": null,
            "grid_row": null,
            "grid_template_areas": null,
            "grid_template_columns": null,
            "grid_template_rows": null,
            "height": null,
            "justify_content": null,
            "justify_items": null,
            "left": null,
            "margin": null,
            "max_height": null,
            "max_width": null,
            "min_height": null,
            "min_width": null,
            "object_fit": null,
            "object_position": null,
            "order": null,
            "overflow": null,
            "overflow_x": null,
            "overflow_y": null,
            "padding": null,
            "right": null,
            "top": null,
            "visibility": null,
            "width": null
          }
        },
        "4b48ee35b4f64328a642ff80114d9810": {
          "model_module": "@jupyter-widgets/base",
          "model_name": "LayoutModel",
          "model_module_version": "1.2.0",
          "state": {
            "_model_module": "@jupyter-widgets/base",
            "_model_module_version": "1.2.0",
            "_model_name": "LayoutModel",
            "_view_count": null,
            "_view_module": "@jupyter-widgets/base",
            "_view_module_version": "1.2.0",
            "_view_name": "LayoutView",
            "align_content": null,
            "align_items": null,
            "align_self": null,
            "border": null,
            "bottom": null,
            "display": null,
            "flex": null,
            "flex_flow": null,
            "grid_area": null,
            "grid_auto_columns": null,
            "grid_auto_flow": null,
            "grid_auto_rows": null,
            "grid_column": null,
            "grid_gap": null,
            "grid_row": null,
            "grid_template_areas": null,
            "grid_template_columns": null,
            "grid_template_rows": null,
            "height": null,
            "justify_content": null,
            "justify_items": null,
            "left": null,
            "margin": null,
            "max_height": null,
            "max_width": null,
            "min_height": null,
            "min_width": null,
            "object_fit": null,
            "object_position": null,
            "order": null,
            "overflow": null,
            "overflow_x": null,
            "overflow_y": null,
            "padding": null,
            "right": null,
            "top": null,
            "visibility": null,
            "width": null
          }
        },
        "78237d294aeb410eaf5795c007e30797": {
          "model_module": "@jupyter-widgets/controls",
          "model_name": "DescriptionStyleModel",
          "model_module_version": "1.5.0",
          "state": {
            "_model_module": "@jupyter-widgets/controls",
            "_model_module_version": "1.5.0",
            "_model_name": "DescriptionStyleModel",
            "_view_count": null,
            "_view_module": "@jupyter-widgets/base",
            "_view_module_version": "1.2.0",
            "_view_name": "StyleView",
            "description_width": ""
          }
        },
        "c822e0391a3f47c785678947b9a3200f": {
          "model_module": "@jupyter-widgets/base",
          "model_name": "LayoutModel",
          "model_module_version": "1.2.0",
          "state": {
            "_model_module": "@jupyter-widgets/base",
            "_model_module_version": "1.2.0",
            "_model_name": "LayoutModel",
            "_view_count": null,
            "_view_module": "@jupyter-widgets/base",
            "_view_module_version": "1.2.0",
            "_view_name": "LayoutView",
            "align_content": null,
            "align_items": null,
            "align_self": null,
            "border": null,
            "bottom": null,
            "display": null,
            "flex": null,
            "flex_flow": null,
            "grid_area": null,
            "grid_auto_columns": null,
            "grid_auto_flow": null,
            "grid_auto_rows": null,
            "grid_column": null,
            "grid_gap": null,
            "grid_row": null,
            "grid_template_areas": null,
            "grid_template_columns": null,
            "grid_template_rows": null,
            "height": null,
            "justify_content": null,
            "justify_items": null,
            "left": null,
            "margin": null,
            "max_height": null,
            "max_width": null,
            "min_height": null,
            "min_width": null,
            "object_fit": null,
            "object_position": null,
            "order": null,
            "overflow": null,
            "overflow_x": null,
            "overflow_y": null,
            "padding": null,
            "right": null,
            "top": null,
            "visibility": null,
            "width": null
          }
        },
        "9763303a62d7485eb87ad88414c4d3f8": {
          "model_module": "@jupyter-widgets/controls",
          "model_name": "ProgressStyleModel",
          "model_module_version": "1.5.0",
          "state": {
            "_model_module": "@jupyter-widgets/controls",
            "_model_module_version": "1.5.0",
            "_model_name": "ProgressStyleModel",
            "_view_count": null,
            "_view_module": "@jupyter-widgets/base",
            "_view_module_version": "1.2.0",
            "_view_name": "StyleView",
            "bar_color": null,
            "description_width": ""
          }
        },
        "78fec6ce93ef47818d104385137338bb": {
          "model_module": "@jupyter-widgets/base",
          "model_name": "LayoutModel",
          "model_module_version": "1.2.0",
          "state": {
            "_model_module": "@jupyter-widgets/base",
            "_model_module_version": "1.2.0",
            "_model_name": "LayoutModel",
            "_view_count": null,
            "_view_module": "@jupyter-widgets/base",
            "_view_module_version": "1.2.0",
            "_view_name": "LayoutView",
            "align_content": null,
            "align_items": null,
            "align_self": null,
            "border": null,
            "bottom": null,
            "display": null,
            "flex": null,
            "flex_flow": null,
            "grid_area": null,
            "grid_auto_columns": null,
            "grid_auto_flow": null,
            "grid_auto_rows": null,
            "grid_column": null,
            "grid_gap": null,
            "grid_row": null,
            "grid_template_areas": null,
            "grid_template_columns": null,
            "grid_template_rows": null,
            "height": null,
            "justify_content": null,
            "justify_items": null,
            "left": null,
            "margin": null,
            "max_height": null,
            "max_width": null,
            "min_height": null,
            "min_width": null,
            "object_fit": null,
            "object_position": null,
            "order": null,
            "overflow": null,
            "overflow_x": null,
            "overflow_y": null,
            "padding": null,
            "right": null,
            "top": null,
            "visibility": null,
            "width": null
          }
        },
        "d66f2833b3b04126b069d15eadecf463": {
          "model_module": "@jupyter-widgets/controls",
          "model_name": "DescriptionStyleModel",
          "model_module_version": "1.5.0",
          "state": {
            "_model_module": "@jupyter-widgets/controls",
            "_model_module_version": "1.5.0",
            "_model_name": "DescriptionStyleModel",
            "_view_count": null,
            "_view_module": "@jupyter-widgets/base",
            "_view_module_version": "1.2.0",
            "_view_name": "StyleView",
            "description_width": ""
          }
        },
        "bad4a253698f462c8136dc0fa860d22c": {
          "model_module": "@jupyter-widgets/controls",
          "model_name": "HBoxModel",
          "model_module_version": "1.5.0",
          "state": {
            "_dom_classes": [],
            "_model_module": "@jupyter-widgets/controls",
            "_model_module_version": "1.5.0",
            "_model_name": "HBoxModel",
            "_view_count": null,
            "_view_module": "@jupyter-widgets/controls",
            "_view_module_version": "1.5.0",
            "_view_name": "HBoxView",
            "box_style": "",
            "children": [
              "IPY_MODEL_54b7136c5d6f4184832ac9a0db2d3d2e",
              "IPY_MODEL_cabfc21ba5c54dea832752d03583db58",
              "IPY_MODEL_d319250d0ccf47d2992d5a2d4a0a32d4"
            ],
            "layout": "IPY_MODEL_34de97e79bc54664a2aaba3413cdbc52"
          }
        },
        "54b7136c5d6f4184832ac9a0db2d3d2e": {
          "model_module": "@jupyter-widgets/controls",
          "model_name": "HTMLModel",
          "model_module_version": "1.5.0",
          "state": {
            "_dom_classes": [],
            "_model_module": "@jupyter-widgets/controls",
            "_model_module_version": "1.5.0",
            "_model_name": "HTMLModel",
            "_view_count": null,
            "_view_module": "@jupyter-widgets/controls",
            "_view_module_version": "1.5.0",
            "_view_name": "HTMLView",
            "description": "",
            "description_tooltip": null,
            "layout": "IPY_MODEL_9810e658f8fb47f39b048f9ced3dd907",
            "placeholder": "​",
            "style": "IPY_MODEL_1b734ebdfe464920bad790edb6bb292b",
            "value": "100%"
          }
        },
        "cabfc21ba5c54dea832752d03583db58": {
          "model_module": "@jupyter-widgets/controls",
          "model_name": "FloatProgressModel",
          "model_module_version": "1.5.0",
          "state": {
            "_dom_classes": [],
            "_model_module": "@jupyter-widgets/controls",
            "_model_module_version": "1.5.0",
            "_model_name": "FloatProgressModel",
            "_view_count": null,
            "_view_module": "@jupyter-widgets/controls",
            "_view_module_version": "1.5.0",
            "_view_name": "ProgressView",
            "bar_style": "success",
            "description": "",
            "description_tooltip": null,
            "layout": "IPY_MODEL_a95ac050566d49b2b85cc74be5a077e3",
            "max": 184,
            "min": 0,
            "orientation": "horizontal",
            "style": "IPY_MODEL_49598c48e9be44dca9fb83d8216fe1da",
            "value": 184
          }
        },
        "d319250d0ccf47d2992d5a2d4a0a32d4": {
          "model_module": "@jupyter-widgets/controls",
          "model_name": "HTMLModel",
          "model_module_version": "1.5.0",
          "state": {
            "_dom_classes": [],
            "_model_module": "@jupyter-widgets/controls",
            "_model_module_version": "1.5.0",
            "_model_name": "HTMLModel",
            "_view_count": null,
            "_view_module": "@jupyter-widgets/controls",
            "_view_module_version": "1.5.0",
            "_view_name": "HTMLView",
            "description": "",
            "description_tooltip": null,
            "layout": "IPY_MODEL_b16fcd0bcf5a417aa5117ecf5dd20e79",
            "placeholder": "​",
            "style": "IPY_MODEL_ba69f2de063f46fb9e88b1ac518fbf51",
            "value": " 184/184 [02:05&lt;00:00,  1.50it/s]"
          }
        },
        "34de97e79bc54664a2aaba3413cdbc52": {
          "model_module": "@jupyter-widgets/base",
          "model_name": "LayoutModel",
          "model_module_version": "1.2.0",
          "state": {
            "_model_module": "@jupyter-widgets/base",
            "_model_module_version": "1.2.0",
            "_model_name": "LayoutModel",
            "_view_count": null,
            "_view_module": "@jupyter-widgets/base",
            "_view_module_version": "1.2.0",
            "_view_name": "LayoutView",
            "align_content": null,
            "align_items": null,
            "align_self": null,
            "border": null,
            "bottom": null,
            "display": null,
            "flex": null,
            "flex_flow": null,
            "grid_area": null,
            "grid_auto_columns": null,
            "grid_auto_flow": null,
            "grid_auto_rows": null,
            "grid_column": null,
            "grid_gap": null,
            "grid_row": null,
            "grid_template_areas": null,
            "grid_template_columns": null,
            "grid_template_rows": null,
            "height": null,
            "justify_content": null,
            "justify_items": null,
            "left": null,
            "margin": null,
            "max_height": null,
            "max_width": null,
            "min_height": null,
            "min_width": null,
            "object_fit": null,
            "object_position": null,
            "order": null,
            "overflow": null,
            "overflow_x": null,
            "overflow_y": null,
            "padding": null,
            "right": null,
            "top": null,
            "visibility": null,
            "width": null
          }
        },
        "9810e658f8fb47f39b048f9ced3dd907": {
          "model_module": "@jupyter-widgets/base",
          "model_name": "LayoutModel",
          "model_module_version": "1.2.0",
          "state": {
            "_model_module": "@jupyter-widgets/base",
            "_model_module_version": "1.2.0",
            "_model_name": "LayoutModel",
            "_view_count": null,
            "_view_module": "@jupyter-widgets/base",
            "_view_module_version": "1.2.0",
            "_view_name": "LayoutView",
            "align_content": null,
            "align_items": null,
            "align_self": null,
            "border": null,
            "bottom": null,
            "display": null,
            "flex": null,
            "flex_flow": null,
            "grid_area": null,
            "grid_auto_columns": null,
            "grid_auto_flow": null,
            "grid_auto_rows": null,
            "grid_column": null,
            "grid_gap": null,
            "grid_row": null,
            "grid_template_areas": null,
            "grid_template_columns": null,
            "grid_template_rows": null,
            "height": null,
            "justify_content": null,
            "justify_items": null,
            "left": null,
            "margin": null,
            "max_height": null,
            "max_width": null,
            "min_height": null,
            "min_width": null,
            "object_fit": null,
            "object_position": null,
            "order": null,
            "overflow": null,
            "overflow_x": null,
            "overflow_y": null,
            "padding": null,
            "right": null,
            "top": null,
            "visibility": null,
            "width": null
          }
        },
        "1b734ebdfe464920bad790edb6bb292b": {
          "model_module": "@jupyter-widgets/controls",
          "model_name": "DescriptionStyleModel",
          "model_module_version": "1.5.0",
          "state": {
            "_model_module": "@jupyter-widgets/controls",
            "_model_module_version": "1.5.0",
            "_model_name": "DescriptionStyleModel",
            "_view_count": null,
            "_view_module": "@jupyter-widgets/base",
            "_view_module_version": "1.2.0",
            "_view_name": "StyleView",
            "description_width": ""
          }
        },
        "a95ac050566d49b2b85cc74be5a077e3": {
          "model_module": "@jupyter-widgets/base",
          "model_name": "LayoutModel",
          "model_module_version": "1.2.0",
          "state": {
            "_model_module": "@jupyter-widgets/base",
            "_model_module_version": "1.2.0",
            "_model_name": "LayoutModel",
            "_view_count": null,
            "_view_module": "@jupyter-widgets/base",
            "_view_module_version": "1.2.0",
            "_view_name": "LayoutView",
            "align_content": null,
            "align_items": null,
            "align_self": null,
            "border": null,
            "bottom": null,
            "display": null,
            "flex": null,
            "flex_flow": null,
            "grid_area": null,
            "grid_auto_columns": null,
            "grid_auto_flow": null,
            "grid_auto_rows": null,
            "grid_column": null,
            "grid_gap": null,
            "grid_row": null,
            "grid_template_areas": null,
            "grid_template_columns": null,
            "grid_template_rows": null,
            "height": null,
            "justify_content": null,
            "justify_items": null,
            "left": null,
            "margin": null,
            "max_height": null,
            "max_width": null,
            "min_height": null,
            "min_width": null,
            "object_fit": null,
            "object_position": null,
            "order": null,
            "overflow": null,
            "overflow_x": null,
            "overflow_y": null,
            "padding": null,
            "right": null,
            "top": null,
            "visibility": null,
            "width": null
          }
        },
        "49598c48e9be44dca9fb83d8216fe1da": {
          "model_module": "@jupyter-widgets/controls",
          "model_name": "ProgressStyleModel",
          "model_module_version": "1.5.0",
          "state": {
            "_model_module": "@jupyter-widgets/controls",
            "_model_module_version": "1.5.0",
            "_model_name": "ProgressStyleModel",
            "_view_count": null,
            "_view_module": "@jupyter-widgets/base",
            "_view_module_version": "1.2.0",
            "_view_name": "StyleView",
            "bar_color": null,
            "description_width": ""
          }
        },
        "b16fcd0bcf5a417aa5117ecf5dd20e79": {
          "model_module": "@jupyter-widgets/base",
          "model_name": "LayoutModel",
          "model_module_version": "1.2.0",
          "state": {
            "_model_module": "@jupyter-widgets/base",
            "_model_module_version": "1.2.0",
            "_model_name": "LayoutModel",
            "_view_count": null,
            "_view_module": "@jupyter-widgets/base",
            "_view_module_version": "1.2.0",
            "_view_name": "LayoutView",
            "align_content": null,
            "align_items": null,
            "align_self": null,
            "border": null,
            "bottom": null,
            "display": null,
            "flex": null,
            "flex_flow": null,
            "grid_area": null,
            "grid_auto_columns": null,
            "grid_auto_flow": null,
            "grid_auto_rows": null,
            "grid_column": null,
            "grid_gap": null,
            "grid_row": null,
            "grid_template_areas": null,
            "grid_template_columns": null,
            "grid_template_rows": null,
            "height": null,
            "justify_content": null,
            "justify_items": null,
            "left": null,
            "margin": null,
            "max_height": null,
            "max_width": null,
            "min_height": null,
            "min_width": null,
            "object_fit": null,
            "object_position": null,
            "order": null,
            "overflow": null,
            "overflow_x": null,
            "overflow_y": null,
            "padding": null,
            "right": null,
            "top": null,
            "visibility": null,
            "width": null
          }
        },
        "ba69f2de063f46fb9e88b1ac518fbf51": {
          "model_module": "@jupyter-widgets/controls",
          "model_name": "DescriptionStyleModel",
          "model_module_version": "1.5.0",
          "state": {
            "_model_module": "@jupyter-widgets/controls",
            "_model_module_version": "1.5.0",
            "_model_name": "DescriptionStyleModel",
            "_view_count": null,
            "_view_module": "@jupyter-widgets/base",
            "_view_module_version": "1.2.0",
            "_view_name": "StyleView",
            "description_width": ""
          }
        },
        "1cd95e8f6edf4460b9b093e344b482f0": {
          "model_module": "@jupyter-widgets/controls",
          "model_name": "HBoxModel",
          "model_module_version": "1.5.0",
          "state": {
            "_dom_classes": [],
            "_model_module": "@jupyter-widgets/controls",
            "_model_module_version": "1.5.0",
            "_model_name": "HBoxModel",
            "_view_count": null,
            "_view_module": "@jupyter-widgets/controls",
            "_view_module_version": "1.5.0",
            "_view_name": "HBoxView",
            "box_style": "",
            "children": [
              "IPY_MODEL_62b0db61e74b4cbaae0fc109027f7b9a",
              "IPY_MODEL_41f9328ee6874016973174fce0419998",
              "IPY_MODEL_d5155b9422e942ddb0256e96841dc7b1"
            ],
            "layout": "IPY_MODEL_5e4380b1688d4707869c88df2760bda9"
          }
        },
        "62b0db61e74b4cbaae0fc109027f7b9a": {
          "model_module": "@jupyter-widgets/controls",
          "model_name": "HTMLModel",
          "model_module_version": "1.5.0",
          "state": {
            "_dom_classes": [],
            "_model_module": "@jupyter-widgets/controls",
            "_model_module_version": "1.5.0",
            "_model_name": "HTMLModel",
            "_view_count": null,
            "_view_module": "@jupyter-widgets/controls",
            "_view_module_version": "1.5.0",
            "_view_name": "HTMLView",
            "description": "",
            "description_tooltip": null,
            "layout": "IPY_MODEL_69f93dc484944537940770b276db951b",
            "placeholder": "​",
            "style": "IPY_MODEL_fc2304aecb874edaacb0f0ea3101decc",
            "value": "100%"
          }
        },
        "41f9328ee6874016973174fce0419998": {
          "model_module": "@jupyter-widgets/controls",
          "model_name": "FloatProgressModel",
          "model_module_version": "1.5.0",
          "state": {
            "_dom_classes": [],
            "_model_module": "@jupyter-widgets/controls",
            "_model_module_version": "1.5.0",
            "_model_name": "FloatProgressModel",
            "_view_count": null,
            "_view_module": "@jupyter-widgets/controls",
            "_view_module_version": "1.5.0",
            "_view_name": "ProgressView",
            "bar_style": "success",
            "description": "",
            "description_tooltip": null,
            "layout": "IPY_MODEL_b17dc2a6eda34847b46afc87a932a66e",
            "max": 184,
            "min": 0,
            "orientation": "horizontal",
            "style": "IPY_MODEL_760b14553bd44c03bab0acbb3312c68c",
            "value": 184
          }
        },
        "d5155b9422e942ddb0256e96841dc7b1": {
          "model_module": "@jupyter-widgets/controls",
          "model_name": "HTMLModel",
          "model_module_version": "1.5.0",
          "state": {
            "_dom_classes": [],
            "_model_module": "@jupyter-widgets/controls",
            "_model_module_version": "1.5.0",
            "_model_name": "HTMLModel",
            "_view_count": null,
            "_view_module": "@jupyter-widgets/controls",
            "_view_module_version": "1.5.0",
            "_view_name": "HTMLView",
            "description": "",
            "description_tooltip": null,
            "layout": "IPY_MODEL_96463927af564df593fef392f8861b27",
            "placeholder": "​",
            "style": "IPY_MODEL_ff7655fb1b48477e9aee9d2efa648fcd",
            "value": " 184/184 [03:25&lt;00:00,  1.16s/it]"
          }
        },
        "5e4380b1688d4707869c88df2760bda9": {
          "model_module": "@jupyter-widgets/base",
          "model_name": "LayoutModel",
          "model_module_version": "1.2.0",
          "state": {
            "_model_module": "@jupyter-widgets/base",
            "_model_module_version": "1.2.0",
            "_model_name": "LayoutModel",
            "_view_count": null,
            "_view_module": "@jupyter-widgets/base",
            "_view_module_version": "1.2.0",
            "_view_name": "LayoutView",
            "align_content": null,
            "align_items": null,
            "align_self": null,
            "border": null,
            "bottom": null,
            "display": null,
            "flex": null,
            "flex_flow": null,
            "grid_area": null,
            "grid_auto_columns": null,
            "grid_auto_flow": null,
            "grid_auto_rows": null,
            "grid_column": null,
            "grid_gap": null,
            "grid_row": null,
            "grid_template_areas": null,
            "grid_template_columns": null,
            "grid_template_rows": null,
            "height": null,
            "justify_content": null,
            "justify_items": null,
            "left": null,
            "margin": null,
            "max_height": null,
            "max_width": null,
            "min_height": null,
            "min_width": null,
            "object_fit": null,
            "object_position": null,
            "order": null,
            "overflow": null,
            "overflow_x": null,
            "overflow_y": null,
            "padding": null,
            "right": null,
            "top": null,
            "visibility": null,
            "width": null
          }
        },
        "69f93dc484944537940770b276db951b": {
          "model_module": "@jupyter-widgets/base",
          "model_name": "LayoutModel",
          "model_module_version": "1.2.0",
          "state": {
            "_model_module": "@jupyter-widgets/base",
            "_model_module_version": "1.2.0",
            "_model_name": "LayoutModel",
            "_view_count": null,
            "_view_module": "@jupyter-widgets/base",
            "_view_module_version": "1.2.0",
            "_view_name": "LayoutView",
            "align_content": null,
            "align_items": null,
            "align_self": null,
            "border": null,
            "bottom": null,
            "display": null,
            "flex": null,
            "flex_flow": null,
            "grid_area": null,
            "grid_auto_columns": null,
            "grid_auto_flow": null,
            "grid_auto_rows": null,
            "grid_column": null,
            "grid_gap": null,
            "grid_row": null,
            "grid_template_areas": null,
            "grid_template_columns": null,
            "grid_template_rows": null,
            "height": null,
            "justify_content": null,
            "justify_items": null,
            "left": null,
            "margin": null,
            "max_height": null,
            "max_width": null,
            "min_height": null,
            "min_width": null,
            "object_fit": null,
            "object_position": null,
            "order": null,
            "overflow": null,
            "overflow_x": null,
            "overflow_y": null,
            "padding": null,
            "right": null,
            "top": null,
            "visibility": null,
            "width": null
          }
        },
        "fc2304aecb874edaacb0f0ea3101decc": {
          "model_module": "@jupyter-widgets/controls",
          "model_name": "DescriptionStyleModel",
          "model_module_version": "1.5.0",
          "state": {
            "_model_module": "@jupyter-widgets/controls",
            "_model_module_version": "1.5.0",
            "_model_name": "DescriptionStyleModel",
            "_view_count": null,
            "_view_module": "@jupyter-widgets/base",
            "_view_module_version": "1.2.0",
            "_view_name": "StyleView",
            "description_width": ""
          }
        },
        "b17dc2a6eda34847b46afc87a932a66e": {
          "model_module": "@jupyter-widgets/base",
          "model_name": "LayoutModel",
          "model_module_version": "1.2.0",
          "state": {
            "_model_module": "@jupyter-widgets/base",
            "_model_module_version": "1.2.0",
            "_model_name": "LayoutModel",
            "_view_count": null,
            "_view_module": "@jupyter-widgets/base",
            "_view_module_version": "1.2.0",
            "_view_name": "LayoutView",
            "align_content": null,
            "align_items": null,
            "align_self": null,
            "border": null,
            "bottom": null,
            "display": null,
            "flex": null,
            "flex_flow": null,
            "grid_area": null,
            "grid_auto_columns": null,
            "grid_auto_flow": null,
            "grid_auto_rows": null,
            "grid_column": null,
            "grid_gap": null,
            "grid_row": null,
            "grid_template_areas": null,
            "grid_template_columns": null,
            "grid_template_rows": null,
            "height": null,
            "justify_content": null,
            "justify_items": null,
            "left": null,
            "margin": null,
            "max_height": null,
            "max_width": null,
            "min_height": null,
            "min_width": null,
            "object_fit": null,
            "object_position": null,
            "order": null,
            "overflow": null,
            "overflow_x": null,
            "overflow_y": null,
            "padding": null,
            "right": null,
            "top": null,
            "visibility": null,
            "width": null
          }
        },
        "760b14553bd44c03bab0acbb3312c68c": {
          "model_module": "@jupyter-widgets/controls",
          "model_name": "ProgressStyleModel",
          "model_module_version": "1.5.0",
          "state": {
            "_model_module": "@jupyter-widgets/controls",
            "_model_module_version": "1.5.0",
            "_model_name": "ProgressStyleModel",
            "_view_count": null,
            "_view_module": "@jupyter-widgets/base",
            "_view_module_version": "1.2.0",
            "_view_name": "StyleView",
            "bar_color": null,
            "description_width": ""
          }
        },
        "96463927af564df593fef392f8861b27": {
          "model_module": "@jupyter-widgets/base",
          "model_name": "LayoutModel",
          "model_module_version": "1.2.0",
          "state": {
            "_model_module": "@jupyter-widgets/base",
            "_model_module_version": "1.2.0",
            "_model_name": "LayoutModel",
            "_view_count": null,
            "_view_module": "@jupyter-widgets/base",
            "_view_module_version": "1.2.0",
            "_view_name": "LayoutView",
            "align_content": null,
            "align_items": null,
            "align_self": null,
            "border": null,
            "bottom": null,
            "display": null,
            "flex": null,
            "flex_flow": null,
            "grid_area": null,
            "grid_auto_columns": null,
            "grid_auto_flow": null,
            "grid_auto_rows": null,
            "grid_column": null,
            "grid_gap": null,
            "grid_row": null,
            "grid_template_areas": null,
            "grid_template_columns": null,
            "grid_template_rows": null,
            "height": null,
            "justify_content": null,
            "justify_items": null,
            "left": null,
            "margin": null,
            "max_height": null,
            "max_width": null,
            "min_height": null,
            "min_width": null,
            "object_fit": null,
            "object_position": null,
            "order": null,
            "overflow": null,
            "overflow_x": null,
            "overflow_y": null,
            "padding": null,
            "right": null,
            "top": null,
            "visibility": null,
            "width": null
          }
        },
        "ff7655fb1b48477e9aee9d2efa648fcd": {
          "model_module": "@jupyter-widgets/controls",
          "model_name": "DescriptionStyleModel",
          "model_module_version": "1.5.0",
          "state": {
            "_model_module": "@jupyter-widgets/controls",
            "_model_module_version": "1.5.0",
            "_model_name": "DescriptionStyleModel",
            "_view_count": null,
            "_view_module": "@jupyter-widgets/base",
            "_view_module_version": "1.2.0",
            "_view_name": "StyleView",
            "description_width": ""
          }
        },
        "868f06de220141378fa33ed32baad2ae": {
          "model_module": "@jupyter-widgets/controls",
          "model_name": "HBoxModel",
          "model_module_version": "1.5.0",
          "state": {
            "_dom_classes": [],
            "_model_module": "@jupyter-widgets/controls",
            "_model_module_version": "1.5.0",
            "_model_name": "HBoxModel",
            "_view_count": null,
            "_view_module": "@jupyter-widgets/controls",
            "_view_module_version": "1.5.0",
            "_view_name": "HBoxView",
            "box_style": "",
            "children": [
              "IPY_MODEL_ff97fdee3dfd4e738988a6c47b07552c",
              "IPY_MODEL_ee49fcd5f74c4ca2adea5225a33c8178",
              "IPY_MODEL_2f5c1504a8f74a05a26e0002cd2b3943"
            ],
            "layout": "IPY_MODEL_3dbd4c4ec038486b84890839b6df5760"
          }
        },
        "ff97fdee3dfd4e738988a6c47b07552c": {
          "model_module": "@jupyter-widgets/controls",
          "model_name": "HTMLModel",
          "model_module_version": "1.5.0",
          "state": {
            "_dom_classes": [],
            "_model_module": "@jupyter-widgets/controls",
            "_model_module_version": "1.5.0",
            "_model_name": "HTMLModel",
            "_view_count": null,
            "_view_module": "@jupyter-widgets/controls",
            "_view_module_version": "1.5.0",
            "_view_name": "HTMLView",
            "description": "",
            "description_tooltip": null,
            "layout": "IPY_MODEL_584821a92e1a4698abe146cc38f8703e",
            "placeholder": "​",
            "style": "IPY_MODEL_25e865a98fb1401b970ee74ac09905ef",
            "value": "100%"
          }
        },
        "ee49fcd5f74c4ca2adea5225a33c8178": {
          "model_module": "@jupyter-widgets/controls",
          "model_name": "FloatProgressModel",
          "model_module_version": "1.5.0",
          "state": {
            "_dom_classes": [],
            "_model_module": "@jupyter-widgets/controls",
            "_model_module_version": "1.5.0",
            "_model_name": "FloatProgressModel",
            "_view_count": null,
            "_view_module": "@jupyter-widgets/controls",
            "_view_module_version": "1.5.0",
            "_view_name": "ProgressView",
            "bar_style": "success",
            "description": "",
            "description_tooltip": null,
            "layout": "IPY_MODEL_8cd7c067aa114efe8b91ce660fa9bb79",
            "max": 184,
            "min": 0,
            "orientation": "horizontal",
            "style": "IPY_MODEL_78673a882ae94bc58ed1bf1da0ad2fed",
            "value": 184
          }
        },
        "2f5c1504a8f74a05a26e0002cd2b3943": {
          "model_module": "@jupyter-widgets/controls",
          "model_name": "HTMLModel",
          "model_module_version": "1.5.0",
          "state": {
            "_dom_classes": [],
            "_model_module": "@jupyter-widgets/controls",
            "_model_module_version": "1.5.0",
            "_model_name": "HTMLModel",
            "_view_count": null,
            "_view_module": "@jupyter-widgets/controls",
            "_view_module_version": "1.5.0",
            "_view_name": "HTMLView",
            "description": "",
            "description_tooltip": null,
            "layout": "IPY_MODEL_acb766dc6dbc4467a75c4419574f4368",
            "placeholder": "​",
            "style": "IPY_MODEL_cabe0697ba1a44c194b4385f85765e80",
            "value": " 184/184 [09:35&lt;00:00,  3.14s/it]"
          }
        },
        "3dbd4c4ec038486b84890839b6df5760": {
          "model_module": "@jupyter-widgets/base",
          "model_name": "LayoutModel",
          "model_module_version": "1.2.0",
          "state": {
            "_model_module": "@jupyter-widgets/base",
            "_model_module_version": "1.2.0",
            "_model_name": "LayoutModel",
            "_view_count": null,
            "_view_module": "@jupyter-widgets/base",
            "_view_module_version": "1.2.0",
            "_view_name": "LayoutView",
            "align_content": null,
            "align_items": null,
            "align_self": null,
            "border": null,
            "bottom": null,
            "display": null,
            "flex": null,
            "flex_flow": null,
            "grid_area": null,
            "grid_auto_columns": null,
            "grid_auto_flow": null,
            "grid_auto_rows": null,
            "grid_column": null,
            "grid_gap": null,
            "grid_row": null,
            "grid_template_areas": null,
            "grid_template_columns": null,
            "grid_template_rows": null,
            "height": null,
            "justify_content": null,
            "justify_items": null,
            "left": null,
            "margin": null,
            "max_height": null,
            "max_width": null,
            "min_height": null,
            "min_width": null,
            "object_fit": null,
            "object_position": null,
            "order": null,
            "overflow": null,
            "overflow_x": null,
            "overflow_y": null,
            "padding": null,
            "right": null,
            "top": null,
            "visibility": null,
            "width": null
          }
        },
        "584821a92e1a4698abe146cc38f8703e": {
          "model_module": "@jupyter-widgets/base",
          "model_name": "LayoutModel",
          "model_module_version": "1.2.0",
          "state": {
            "_model_module": "@jupyter-widgets/base",
            "_model_module_version": "1.2.0",
            "_model_name": "LayoutModel",
            "_view_count": null,
            "_view_module": "@jupyter-widgets/base",
            "_view_module_version": "1.2.0",
            "_view_name": "LayoutView",
            "align_content": null,
            "align_items": null,
            "align_self": null,
            "border": null,
            "bottom": null,
            "display": null,
            "flex": null,
            "flex_flow": null,
            "grid_area": null,
            "grid_auto_columns": null,
            "grid_auto_flow": null,
            "grid_auto_rows": null,
            "grid_column": null,
            "grid_gap": null,
            "grid_row": null,
            "grid_template_areas": null,
            "grid_template_columns": null,
            "grid_template_rows": null,
            "height": null,
            "justify_content": null,
            "justify_items": null,
            "left": null,
            "margin": null,
            "max_height": null,
            "max_width": null,
            "min_height": null,
            "min_width": null,
            "object_fit": null,
            "object_position": null,
            "order": null,
            "overflow": null,
            "overflow_x": null,
            "overflow_y": null,
            "padding": null,
            "right": null,
            "top": null,
            "visibility": null,
            "width": null
          }
        },
        "25e865a98fb1401b970ee74ac09905ef": {
          "model_module": "@jupyter-widgets/controls",
          "model_name": "DescriptionStyleModel",
          "model_module_version": "1.5.0",
          "state": {
            "_model_module": "@jupyter-widgets/controls",
            "_model_module_version": "1.5.0",
            "_model_name": "DescriptionStyleModel",
            "_view_count": null,
            "_view_module": "@jupyter-widgets/base",
            "_view_module_version": "1.2.0",
            "_view_name": "StyleView",
            "description_width": ""
          }
        },
        "8cd7c067aa114efe8b91ce660fa9bb79": {
          "model_module": "@jupyter-widgets/base",
          "model_name": "LayoutModel",
          "model_module_version": "1.2.0",
          "state": {
            "_model_module": "@jupyter-widgets/base",
            "_model_module_version": "1.2.0",
            "_model_name": "LayoutModel",
            "_view_count": null,
            "_view_module": "@jupyter-widgets/base",
            "_view_module_version": "1.2.0",
            "_view_name": "LayoutView",
            "align_content": null,
            "align_items": null,
            "align_self": null,
            "border": null,
            "bottom": null,
            "display": null,
            "flex": null,
            "flex_flow": null,
            "grid_area": null,
            "grid_auto_columns": null,
            "grid_auto_flow": null,
            "grid_auto_rows": null,
            "grid_column": null,
            "grid_gap": null,
            "grid_row": null,
            "grid_template_areas": null,
            "grid_template_columns": null,
            "grid_template_rows": null,
            "height": null,
            "justify_content": null,
            "justify_items": null,
            "left": null,
            "margin": null,
            "max_height": null,
            "max_width": null,
            "min_height": null,
            "min_width": null,
            "object_fit": null,
            "object_position": null,
            "order": null,
            "overflow": null,
            "overflow_x": null,
            "overflow_y": null,
            "padding": null,
            "right": null,
            "top": null,
            "visibility": null,
            "width": null
          }
        },
        "78673a882ae94bc58ed1bf1da0ad2fed": {
          "model_module": "@jupyter-widgets/controls",
          "model_name": "ProgressStyleModel",
          "model_module_version": "1.5.0",
          "state": {
            "_model_module": "@jupyter-widgets/controls",
            "_model_module_version": "1.5.0",
            "_model_name": "ProgressStyleModel",
            "_view_count": null,
            "_view_module": "@jupyter-widgets/base",
            "_view_module_version": "1.2.0",
            "_view_name": "StyleView",
            "bar_color": null,
            "description_width": ""
          }
        },
        "acb766dc6dbc4467a75c4419574f4368": {
          "model_module": "@jupyter-widgets/base",
          "model_name": "LayoutModel",
          "model_module_version": "1.2.0",
          "state": {
            "_model_module": "@jupyter-widgets/base",
            "_model_module_version": "1.2.0",
            "_model_name": "LayoutModel",
            "_view_count": null,
            "_view_module": "@jupyter-widgets/base",
            "_view_module_version": "1.2.0",
            "_view_name": "LayoutView",
            "align_content": null,
            "align_items": null,
            "align_self": null,
            "border": null,
            "bottom": null,
            "display": null,
            "flex": null,
            "flex_flow": null,
            "grid_area": null,
            "grid_auto_columns": null,
            "grid_auto_flow": null,
            "grid_auto_rows": null,
            "grid_column": null,
            "grid_gap": null,
            "grid_row": null,
            "grid_template_areas": null,
            "grid_template_columns": null,
            "grid_template_rows": null,
            "height": null,
            "justify_content": null,
            "justify_items": null,
            "left": null,
            "margin": null,
            "max_height": null,
            "max_width": null,
            "min_height": null,
            "min_width": null,
            "object_fit": null,
            "object_position": null,
            "order": null,
            "overflow": null,
            "overflow_x": null,
            "overflow_y": null,
            "padding": null,
            "right": null,
            "top": null,
            "visibility": null,
            "width": null
          }
        },
        "cabe0697ba1a44c194b4385f85765e80": {
          "model_module": "@jupyter-widgets/controls",
          "model_name": "DescriptionStyleModel",
          "model_module_version": "1.5.0",
          "state": {
            "_model_module": "@jupyter-widgets/controls",
            "_model_module_version": "1.5.0",
            "_model_name": "DescriptionStyleModel",
            "_view_count": null,
            "_view_module": "@jupyter-widgets/base",
            "_view_module_version": "1.2.0",
            "_view_name": "StyleView",
            "description_width": ""
          }
        },
        "608d8cfa30bd465288d13031cc36765a": {
          "model_module": "@jupyter-widgets/controls",
          "model_name": "HBoxModel",
          "model_module_version": "1.5.0",
          "state": {
            "_dom_classes": [],
            "_model_module": "@jupyter-widgets/controls",
            "_model_module_version": "1.5.0",
            "_model_name": "HBoxModel",
            "_view_count": null,
            "_view_module": "@jupyter-widgets/controls",
            "_view_module_version": "1.5.0",
            "_view_name": "HBoxView",
            "box_style": "",
            "children": [
              "IPY_MODEL_e5cc78c8993646b8b2f1dfa2a2ce2da2",
              "IPY_MODEL_1a01e28f02fc497a90041d7f786d1e5f",
              "IPY_MODEL_b857681cb1484d3abb466f363d2b347e"
            ],
            "layout": "IPY_MODEL_16bd0d0794914f3a8abe103a3abcb3b8"
          }
        },
        "e5cc78c8993646b8b2f1dfa2a2ce2da2": {
          "model_module": "@jupyter-widgets/controls",
          "model_name": "HTMLModel",
          "model_module_version": "1.5.0",
          "state": {
            "_dom_classes": [],
            "_model_module": "@jupyter-widgets/controls",
            "_model_module_version": "1.5.0",
            "_model_name": "HTMLModel",
            "_view_count": null,
            "_view_module": "@jupyter-widgets/controls",
            "_view_module_version": "1.5.0",
            "_view_name": "HTMLView",
            "description": "",
            "description_tooltip": null,
            "layout": "IPY_MODEL_0cc4650006e644eeaa3eb81d158a4927",
            "placeholder": "​",
            "style": "IPY_MODEL_99e04673b1434a1bb58ae3f14841c23c",
            "value": "100%"
          }
        },
        "1a01e28f02fc497a90041d7f786d1e5f": {
          "model_module": "@jupyter-widgets/controls",
          "model_name": "FloatProgressModel",
          "model_module_version": "1.5.0",
          "state": {
            "_dom_classes": [],
            "_model_module": "@jupyter-widgets/controls",
            "_model_module_version": "1.5.0",
            "_model_name": "FloatProgressModel",
            "_view_count": null,
            "_view_module": "@jupyter-widgets/controls",
            "_view_module_version": "1.5.0",
            "_view_name": "ProgressView",
            "bar_style": "success",
            "description": "",
            "description_tooltip": null,
            "layout": "IPY_MODEL_eb3c0414e4574d2a84fd5194da9a547f",
            "max": 164,
            "min": 0,
            "orientation": "horizontal",
            "style": "IPY_MODEL_c7571d1ca97746ec9b99709d5b99a20e",
            "value": 164
          }
        },
        "b857681cb1484d3abb466f363d2b347e": {
          "model_module": "@jupyter-widgets/controls",
          "model_name": "HTMLModel",
          "model_module_version": "1.5.0",
          "state": {
            "_dom_classes": [],
            "_model_module": "@jupyter-widgets/controls",
            "_model_module_version": "1.5.0",
            "_model_name": "HTMLModel",
            "_view_count": null,
            "_view_module": "@jupyter-widgets/controls",
            "_view_module_version": "1.5.0",
            "_view_name": "HTMLView",
            "description": "",
            "description_tooltip": null,
            "layout": "IPY_MODEL_e12de2816dd544c1bf66fa34e49c004f",
            "placeholder": "​",
            "style": "IPY_MODEL_a65f33195256498d8ac479b4c3e181ad",
            "value": " 164/164 [22:04&lt;00:00,  7.67s/it]"
          }
        },
        "16bd0d0794914f3a8abe103a3abcb3b8": {
          "model_module": "@jupyter-widgets/base",
          "model_name": "LayoutModel",
          "model_module_version": "1.2.0",
          "state": {
            "_model_module": "@jupyter-widgets/base",
            "_model_module_version": "1.2.0",
            "_model_name": "LayoutModel",
            "_view_count": null,
            "_view_module": "@jupyter-widgets/base",
            "_view_module_version": "1.2.0",
            "_view_name": "LayoutView",
            "align_content": null,
            "align_items": null,
            "align_self": null,
            "border": null,
            "bottom": null,
            "display": null,
            "flex": null,
            "flex_flow": null,
            "grid_area": null,
            "grid_auto_columns": null,
            "grid_auto_flow": null,
            "grid_auto_rows": null,
            "grid_column": null,
            "grid_gap": null,
            "grid_row": null,
            "grid_template_areas": null,
            "grid_template_columns": null,
            "grid_template_rows": null,
            "height": null,
            "justify_content": null,
            "justify_items": null,
            "left": null,
            "margin": null,
            "max_height": null,
            "max_width": null,
            "min_height": null,
            "min_width": null,
            "object_fit": null,
            "object_position": null,
            "order": null,
            "overflow": null,
            "overflow_x": null,
            "overflow_y": null,
            "padding": null,
            "right": null,
            "top": null,
            "visibility": null,
            "width": null
          }
        },
        "0cc4650006e644eeaa3eb81d158a4927": {
          "model_module": "@jupyter-widgets/base",
          "model_name": "LayoutModel",
          "model_module_version": "1.2.0",
          "state": {
            "_model_module": "@jupyter-widgets/base",
            "_model_module_version": "1.2.0",
            "_model_name": "LayoutModel",
            "_view_count": null,
            "_view_module": "@jupyter-widgets/base",
            "_view_module_version": "1.2.0",
            "_view_name": "LayoutView",
            "align_content": null,
            "align_items": null,
            "align_self": null,
            "border": null,
            "bottom": null,
            "display": null,
            "flex": null,
            "flex_flow": null,
            "grid_area": null,
            "grid_auto_columns": null,
            "grid_auto_flow": null,
            "grid_auto_rows": null,
            "grid_column": null,
            "grid_gap": null,
            "grid_row": null,
            "grid_template_areas": null,
            "grid_template_columns": null,
            "grid_template_rows": null,
            "height": null,
            "justify_content": null,
            "justify_items": null,
            "left": null,
            "margin": null,
            "max_height": null,
            "max_width": null,
            "min_height": null,
            "min_width": null,
            "object_fit": null,
            "object_position": null,
            "order": null,
            "overflow": null,
            "overflow_x": null,
            "overflow_y": null,
            "padding": null,
            "right": null,
            "top": null,
            "visibility": null,
            "width": null
          }
        },
        "99e04673b1434a1bb58ae3f14841c23c": {
          "model_module": "@jupyter-widgets/controls",
          "model_name": "DescriptionStyleModel",
          "model_module_version": "1.5.0",
          "state": {
            "_model_module": "@jupyter-widgets/controls",
            "_model_module_version": "1.5.0",
            "_model_name": "DescriptionStyleModel",
            "_view_count": null,
            "_view_module": "@jupyter-widgets/base",
            "_view_module_version": "1.2.0",
            "_view_name": "StyleView",
            "description_width": ""
          }
        },
        "eb3c0414e4574d2a84fd5194da9a547f": {
          "model_module": "@jupyter-widgets/base",
          "model_name": "LayoutModel",
          "model_module_version": "1.2.0",
          "state": {
            "_model_module": "@jupyter-widgets/base",
            "_model_module_version": "1.2.0",
            "_model_name": "LayoutModel",
            "_view_count": null,
            "_view_module": "@jupyter-widgets/base",
            "_view_module_version": "1.2.0",
            "_view_name": "LayoutView",
            "align_content": null,
            "align_items": null,
            "align_self": null,
            "border": null,
            "bottom": null,
            "display": null,
            "flex": null,
            "flex_flow": null,
            "grid_area": null,
            "grid_auto_columns": null,
            "grid_auto_flow": null,
            "grid_auto_rows": null,
            "grid_column": null,
            "grid_gap": null,
            "grid_row": null,
            "grid_template_areas": null,
            "grid_template_columns": null,
            "grid_template_rows": null,
            "height": null,
            "justify_content": null,
            "justify_items": null,
            "left": null,
            "margin": null,
            "max_height": null,
            "max_width": null,
            "min_height": null,
            "min_width": null,
            "object_fit": null,
            "object_position": null,
            "order": null,
            "overflow": null,
            "overflow_x": null,
            "overflow_y": null,
            "padding": null,
            "right": null,
            "top": null,
            "visibility": null,
            "width": null
          }
        },
        "c7571d1ca97746ec9b99709d5b99a20e": {
          "model_module": "@jupyter-widgets/controls",
          "model_name": "ProgressStyleModel",
          "model_module_version": "1.5.0",
          "state": {
            "_model_module": "@jupyter-widgets/controls",
            "_model_module_version": "1.5.0",
            "_model_name": "ProgressStyleModel",
            "_view_count": null,
            "_view_module": "@jupyter-widgets/base",
            "_view_module_version": "1.2.0",
            "_view_name": "StyleView",
            "bar_color": null,
            "description_width": ""
          }
        },
        "e12de2816dd544c1bf66fa34e49c004f": {
          "model_module": "@jupyter-widgets/base",
          "model_name": "LayoutModel",
          "model_module_version": "1.2.0",
          "state": {
            "_model_module": "@jupyter-widgets/base",
            "_model_module_version": "1.2.0",
            "_model_name": "LayoutModel",
            "_view_count": null,
            "_view_module": "@jupyter-widgets/base",
            "_view_module_version": "1.2.0",
            "_view_name": "LayoutView",
            "align_content": null,
            "align_items": null,
            "align_self": null,
            "border": null,
            "bottom": null,
            "display": null,
            "flex": null,
            "flex_flow": null,
            "grid_area": null,
            "grid_auto_columns": null,
            "grid_auto_flow": null,
            "grid_auto_rows": null,
            "grid_column": null,
            "grid_gap": null,
            "grid_row": null,
            "grid_template_areas": null,
            "grid_template_columns": null,
            "grid_template_rows": null,
            "height": null,
            "justify_content": null,
            "justify_items": null,
            "left": null,
            "margin": null,
            "max_height": null,
            "max_width": null,
            "min_height": null,
            "min_width": null,
            "object_fit": null,
            "object_position": null,
            "order": null,
            "overflow": null,
            "overflow_x": null,
            "overflow_y": null,
            "padding": null,
            "right": null,
            "top": null,
            "visibility": null,
            "width": null
          }
        },
        "a65f33195256498d8ac479b4c3e181ad": {
          "model_module": "@jupyter-widgets/controls",
          "model_name": "DescriptionStyleModel",
          "model_module_version": "1.5.0",
          "state": {
            "_model_module": "@jupyter-widgets/controls",
            "_model_module_version": "1.5.0",
            "_model_name": "DescriptionStyleModel",
            "_view_count": null,
            "_view_module": "@jupyter-widgets/base",
            "_view_module_version": "1.2.0",
            "_view_name": "StyleView",
            "description_width": ""
          }
        },
        "8c36c18c0f5a41598ae7a784a07e0c08": {
          "model_module": "@jupyter-widgets/controls",
          "model_name": "HBoxModel",
          "model_module_version": "1.5.0",
          "state": {
            "_dom_classes": [],
            "_model_module": "@jupyter-widgets/controls",
            "_model_module_version": "1.5.0",
            "_model_name": "HBoxModel",
            "_view_count": null,
            "_view_module": "@jupyter-widgets/controls",
            "_view_module_version": "1.5.0",
            "_view_name": "HBoxView",
            "box_style": "",
            "children": [
              "IPY_MODEL_8ed63cdd075146029d5719d0fa7d4f48",
              "IPY_MODEL_cfbf2028f02749ccbbf0c89373a489ba",
              "IPY_MODEL_ec5a4c35d2ed49bfb82d127746afd7a5"
            ],
            "layout": "IPY_MODEL_5a04ed36591544ba876003379da9f3ff"
          }
        },
        "8ed63cdd075146029d5719d0fa7d4f48": {
          "model_module": "@jupyter-widgets/controls",
          "model_name": "HTMLModel",
          "model_module_version": "1.5.0",
          "state": {
            "_dom_classes": [],
            "_model_module": "@jupyter-widgets/controls",
            "_model_module_version": "1.5.0",
            "_model_name": "HTMLModel",
            "_view_count": null,
            "_view_module": "@jupyter-widgets/controls",
            "_view_module_version": "1.5.0",
            "_view_name": "HTMLView",
            "description": "",
            "description_tooltip": null,
            "layout": "IPY_MODEL_ad596f2b6c71494596ee1bc054ce46a1",
            "placeholder": "​",
            "style": "IPY_MODEL_920e45a1a63a4300aca8c93e8ab83bc7",
            "value": "100%"
          }
        },
        "cfbf2028f02749ccbbf0c89373a489ba": {
          "model_module": "@jupyter-widgets/controls",
          "model_name": "FloatProgressModel",
          "model_module_version": "1.5.0",
          "state": {
            "_dom_classes": [],
            "_model_module": "@jupyter-widgets/controls",
            "_model_module_version": "1.5.0",
            "_model_name": "FloatProgressModel",
            "_view_count": null,
            "_view_module": "@jupyter-widgets/controls",
            "_view_module_version": "1.5.0",
            "_view_name": "ProgressView",
            "bar_style": "success",
            "description": "",
            "description_tooltip": null,
            "layout": "IPY_MODEL_e04b9c59e3f642eea1297c8939b15bda",
            "max": 184,
            "min": 0,
            "orientation": "horizontal",
            "style": "IPY_MODEL_55fc6ded90d34f3693393dec0c75177f",
            "value": 184
          }
        },
        "ec5a4c35d2ed49bfb82d127746afd7a5": {
          "model_module": "@jupyter-widgets/controls",
          "model_name": "HTMLModel",
          "model_module_version": "1.5.0",
          "state": {
            "_dom_classes": [],
            "_model_module": "@jupyter-widgets/controls",
            "_model_module_version": "1.5.0",
            "_model_name": "HTMLModel",
            "_view_count": null,
            "_view_module": "@jupyter-widgets/controls",
            "_view_module_version": "1.5.0",
            "_view_name": "HTMLView",
            "description": "",
            "description_tooltip": null,
            "layout": "IPY_MODEL_8ca0da3f0b054fe68aa04cd2febaa57b",
            "placeholder": "​",
            "style": "IPY_MODEL_c020b32904164cbcaaf38536292d1f93",
            "value": " 184/184 [25:56&lt;00:00,  8.57s/it]"
          }
        },
        "5a04ed36591544ba876003379da9f3ff": {
          "model_module": "@jupyter-widgets/base",
          "model_name": "LayoutModel",
          "model_module_version": "1.2.0",
          "state": {
            "_model_module": "@jupyter-widgets/base",
            "_model_module_version": "1.2.0",
            "_model_name": "LayoutModel",
            "_view_count": null,
            "_view_module": "@jupyter-widgets/base",
            "_view_module_version": "1.2.0",
            "_view_name": "LayoutView",
            "align_content": null,
            "align_items": null,
            "align_self": null,
            "border": null,
            "bottom": null,
            "display": null,
            "flex": null,
            "flex_flow": null,
            "grid_area": null,
            "grid_auto_columns": null,
            "grid_auto_flow": null,
            "grid_auto_rows": null,
            "grid_column": null,
            "grid_gap": null,
            "grid_row": null,
            "grid_template_areas": null,
            "grid_template_columns": null,
            "grid_template_rows": null,
            "height": null,
            "justify_content": null,
            "justify_items": null,
            "left": null,
            "margin": null,
            "max_height": null,
            "max_width": null,
            "min_height": null,
            "min_width": null,
            "object_fit": null,
            "object_position": null,
            "order": null,
            "overflow": null,
            "overflow_x": null,
            "overflow_y": null,
            "padding": null,
            "right": null,
            "top": null,
            "visibility": null,
            "width": null
          }
        },
        "ad596f2b6c71494596ee1bc054ce46a1": {
          "model_module": "@jupyter-widgets/base",
          "model_name": "LayoutModel",
          "model_module_version": "1.2.0",
          "state": {
            "_model_module": "@jupyter-widgets/base",
            "_model_module_version": "1.2.0",
            "_model_name": "LayoutModel",
            "_view_count": null,
            "_view_module": "@jupyter-widgets/base",
            "_view_module_version": "1.2.0",
            "_view_name": "LayoutView",
            "align_content": null,
            "align_items": null,
            "align_self": null,
            "border": null,
            "bottom": null,
            "display": null,
            "flex": null,
            "flex_flow": null,
            "grid_area": null,
            "grid_auto_columns": null,
            "grid_auto_flow": null,
            "grid_auto_rows": null,
            "grid_column": null,
            "grid_gap": null,
            "grid_row": null,
            "grid_template_areas": null,
            "grid_template_columns": null,
            "grid_template_rows": null,
            "height": null,
            "justify_content": null,
            "justify_items": null,
            "left": null,
            "margin": null,
            "max_height": null,
            "max_width": null,
            "min_height": null,
            "min_width": null,
            "object_fit": null,
            "object_position": null,
            "order": null,
            "overflow": null,
            "overflow_x": null,
            "overflow_y": null,
            "padding": null,
            "right": null,
            "top": null,
            "visibility": null,
            "width": null
          }
        },
        "920e45a1a63a4300aca8c93e8ab83bc7": {
          "model_module": "@jupyter-widgets/controls",
          "model_name": "DescriptionStyleModel",
          "model_module_version": "1.5.0",
          "state": {
            "_model_module": "@jupyter-widgets/controls",
            "_model_module_version": "1.5.0",
            "_model_name": "DescriptionStyleModel",
            "_view_count": null,
            "_view_module": "@jupyter-widgets/base",
            "_view_module_version": "1.2.0",
            "_view_name": "StyleView",
            "description_width": ""
          }
        },
        "e04b9c59e3f642eea1297c8939b15bda": {
          "model_module": "@jupyter-widgets/base",
          "model_name": "LayoutModel",
          "model_module_version": "1.2.0",
          "state": {
            "_model_module": "@jupyter-widgets/base",
            "_model_module_version": "1.2.0",
            "_model_name": "LayoutModel",
            "_view_count": null,
            "_view_module": "@jupyter-widgets/base",
            "_view_module_version": "1.2.0",
            "_view_name": "LayoutView",
            "align_content": null,
            "align_items": null,
            "align_self": null,
            "border": null,
            "bottom": null,
            "display": null,
            "flex": null,
            "flex_flow": null,
            "grid_area": null,
            "grid_auto_columns": null,
            "grid_auto_flow": null,
            "grid_auto_rows": null,
            "grid_column": null,
            "grid_gap": null,
            "grid_row": null,
            "grid_template_areas": null,
            "grid_template_columns": null,
            "grid_template_rows": null,
            "height": null,
            "justify_content": null,
            "justify_items": null,
            "left": null,
            "margin": null,
            "max_height": null,
            "max_width": null,
            "min_height": null,
            "min_width": null,
            "object_fit": null,
            "object_position": null,
            "order": null,
            "overflow": null,
            "overflow_x": null,
            "overflow_y": null,
            "padding": null,
            "right": null,
            "top": null,
            "visibility": null,
            "width": null
          }
        },
        "55fc6ded90d34f3693393dec0c75177f": {
          "model_module": "@jupyter-widgets/controls",
          "model_name": "ProgressStyleModel",
          "model_module_version": "1.5.0",
          "state": {
            "_model_module": "@jupyter-widgets/controls",
            "_model_module_version": "1.5.0",
            "_model_name": "ProgressStyleModel",
            "_view_count": null,
            "_view_module": "@jupyter-widgets/base",
            "_view_module_version": "1.2.0",
            "_view_name": "StyleView",
            "bar_color": null,
            "description_width": ""
          }
        },
        "8ca0da3f0b054fe68aa04cd2febaa57b": {
          "model_module": "@jupyter-widgets/base",
          "model_name": "LayoutModel",
          "model_module_version": "1.2.0",
          "state": {
            "_model_module": "@jupyter-widgets/base",
            "_model_module_version": "1.2.0",
            "_model_name": "LayoutModel",
            "_view_count": null,
            "_view_module": "@jupyter-widgets/base",
            "_view_module_version": "1.2.0",
            "_view_name": "LayoutView",
            "align_content": null,
            "align_items": null,
            "align_self": null,
            "border": null,
            "bottom": null,
            "display": null,
            "flex": null,
            "flex_flow": null,
            "grid_area": null,
            "grid_auto_columns": null,
            "grid_auto_flow": null,
            "grid_auto_rows": null,
            "grid_column": null,
            "grid_gap": null,
            "grid_row": null,
            "grid_template_areas": null,
            "grid_template_columns": null,
            "grid_template_rows": null,
            "height": null,
            "justify_content": null,
            "justify_items": null,
            "left": null,
            "margin": null,
            "max_height": null,
            "max_width": null,
            "min_height": null,
            "min_width": null,
            "object_fit": null,
            "object_position": null,
            "order": null,
            "overflow": null,
            "overflow_x": null,
            "overflow_y": null,
            "padding": null,
            "right": null,
            "top": null,
            "visibility": null,
            "width": null
          }
        },
        "c020b32904164cbcaaf38536292d1f93": {
          "model_module": "@jupyter-widgets/controls",
          "model_name": "DescriptionStyleModel",
          "model_module_version": "1.5.0",
          "state": {
            "_model_module": "@jupyter-widgets/controls",
            "_model_module_version": "1.5.0",
            "_model_name": "DescriptionStyleModel",
            "_view_count": null,
            "_view_module": "@jupyter-widgets/base",
            "_view_module_version": "1.2.0",
            "_view_name": "StyleView",
            "description_width": ""
          }
        }
      }
    }
  },
  "cells": [
    {
      "cell_type": "markdown",
      "metadata": {
        "id": "view-in-github",
        "colab_type": "text"
      },
      "source": [
        "<a href=\"https://colab.research.google.com/github/Polineska/SpeechRecognition/blob/main/Whisper_analysis.ipynb\" target=\"_parent\"><img src=\"https://colab.research.google.com/assets/colab-badge.svg\" alt=\"Open In Colab\"/></a>"
      ]
    },
    {
      "cell_type": "code",
      "source": [
        "!pip install git+https://github.com/openai/whisper.git\n",
        "!sudo apt update && sudo apt install ffmpeg\n",
        "!pip install jiwer"
      ],
      "metadata": {
        "id": "DiJ3BD3FlJll"
      },
      "execution_count": null,
      "outputs": []
    },
    {
      "cell_type": "markdown",
      "source": [
        "#Анализ на самостоятельно отобранных аудиоданных"
      ],
      "metadata": {
        "id": "junlTrW2s-ix"
      }
    },
    {
      "cell_type": "markdown",
      "source": [
        "Модель \"tiny\"\n"
      ],
      "metadata": {
        "id": "m7ycyGrh8VZz"
      }
    },
    {
      "cell_type": "code",
      "source": [
        "import whisper\n",
        "model=whisper.load_model('tiny')\n",
        "result=model.transcribe('terminru.mp3', fp16=False)\n",
        "result_tiny=result['text']\n",
        "print(result_tiny)\n"
      ],
      "metadata": {
        "id": "I7V__NdxvX0P"
      },
      "execution_count": null,
      "outputs": []
    },
    {
      "cell_type": "markdown",
      "source": [
        "Модель \"base\""
      ],
      "metadata": {
        "id": "VBU_DN6H8dZs"
      }
    },
    {
      "cell_type": "code",
      "source": [
        "import whisper\n",
        "model=whisper.load_model('base')\n",
        "result=model.transcribe('terminru.mp3', fp16=False)\n",
        "result_base=result['text']\n",
        "print(result_base)"
      ],
      "metadata": {
        "id": "WzzZia9i8bIX"
      },
      "execution_count": null,
      "outputs": []
    },
    {
      "cell_type": "markdown",
      "source": [
        "Модель \"small\""
      ],
      "metadata": {
        "id": "m8P0x3a_8nKi"
      }
    },
    {
      "cell_type": "code",
      "source": [
        "import whisper\n",
        "model=whisper.load_model('small')\n",
        "result=model.transcribe('terminru.mp3', fp16=False)\n",
        "result_small=result['text']\n",
        "print(result_small)\n"
      ],
      "metadata": {
        "id": "r7RBUc5YjNVc"
      },
      "execution_count": null,
      "outputs": []
    },
    {
      "cell_type": "markdown",
      "source": [
        "Модель \"medium\""
      ],
      "metadata": {
        "id": "NadiBOPf8q6E"
      }
    },
    {
      "cell_type": "code",
      "source": [
        "import whisper\n",
        "model=whisper.load_model('medium')"
      ],
      "metadata": {
        "id": "SDF3zI7Jj-gT",
        "colab": {
          "base_uri": "https://localhost:8080/"
        },
        "outputId": "4cc93a9a-ce94-49af-ce64-497a24a7c690"
      },
      "execution_count": null,
      "outputs": [
        {
          "output_type": "stream",
          "name": "stderr",
          "text": [
            "100%|█████████████████████████████████████| 1.42G/1.42G [00:16<00:00, 91.3MiB/s]\n"
          ]
        }
      ]
    },
    {
      "cell_type": "code",
      "source": [
        "result=model.transcribe('terminru.mp3', fp16=False)\n",
        "result_medium=result['text']\n",
        "print(result_medium)"
      ],
      "metadata": {
        "id": "2Qhs4fY-8qXQ"
      },
      "execution_count": null,
      "outputs": []
    },
    {
      "cell_type": "markdown",
      "source": [
        "Модель \"large\""
      ],
      "metadata": {
        "id": "B-cZvDXS8zFz"
      }
    },
    {
      "cell_type": "code",
      "source": [
        "import whisper\n",
        "model=whisper.load_model('large')\n",
        "result=model.transcribe('noise_ru.wav', fp16=False)\n",
        "result_large=result['text']\n",
        "print(result_large)"
      ],
      "metadata": {
        "id": "MTOdijEX8yus"
      },
      "execution_count": null,
      "outputs": []
    },
    {
      "cell_type": "markdown",
      "source": [
        "Расчет метрики WER\n"
      ],
      "metadata": {
        "id": "QKv9ugvc9mDB"
      }
    },
    {
      "cell_type": "code",
      "source": [
        "def remove_punctuation(test_str): # функция для нормализация текста\n",
        "  result = ''.join(filter(lambda x: x.isalpha() or x.isdigit() or x.isspace(), test_str))\n",
        "  return result.lower()"
      ],
      "metadata": {
        "id": "dU_It3WyPQGy"
      },
      "execution_count": null,
      "outputs": []
    },
    {
      "cell_type": "code",
      "source": [
        "import jiwer #импорт библиотеке для расчета wer\n",
        "\n",
        "def calculate_wer(predicted_text, reference_file): #переадается два аругмента в функцию (распознанный тескт и эталонный)\n",
        "    with open(reference_file, 'r') as file:\n",
        "        reference_text = remove_punctuation(file.read())\n",
        "\n",
        "    transformation = jiwer.wer(reference_text, remove_punctuation(predicted_text))\n",
        "    return transformation"
      ],
      "metadata": {
        "id": "lW5LtF12UZNV"
      },
      "execution_count": null,
      "outputs": []
    },
    {
      "cell_type": "code",
      "source": [
        "reference_file='termin_ru.txt'\n",
        "wer_score_tiny = calculate_wer(result_tiny, reference_file)\n",
        "wer_score_base = calculate_wer(result_base, reference_file)\n",
        "wer_score_small = calculate_wer(result_small, reference_file)\n",
        "wer_score_medium = calculate_wer(result_medium, reference_file)\n",
        "wer_score_large = calculate_wer(result_large, reference_file)\n",
        "print(f\"WER of tiny model: {wer_score_tiny* 100:.2f} %\")\n",
        "print(f\"WER of base model: {wer_score_base* 100:.2f} %\")\n",
        "print(f\"WER of small model: {wer_score_small* 100:.2f} %\")\n",
        "print(f\"WER of medium model: {wer_score_medium* 100:.2f} %\")\n",
        "print(f\"WER of large model: {wer_score_large* 100:.2f} %\")"
      ],
      "metadata": {
        "id": "-dlqYDBeUcfN"
      },
      "execution_count": null,
      "outputs": []
    },
    {
      "cell_type": "markdown",
      "source": [
        "#Анализ англоязычных аудиозаписей, взятых из датасета LibriSpeech"
      ],
      "metadata": {
        "id": "N5OpLo8Ptdvn"
      }
    },
    {
      "cell_type": "markdown",
      "source": [
        "**Загрузка  набора данных LibriSpeech**\n",
        "\n",
        "\n"
      ],
      "metadata": {
        "id": "bjeFmWOk9HIB"
      }
    },
    {
      "cell_type": "code",
      "source": [
        "import os\n",
        "import numpy as np # для работы с числовыми данными и математическими операциями\n",
        "\n",
        "try:\n",
        "    import tensorflow\n",
        "except ImportError:\n",
        "    pass\n",
        "\n",
        "import torch # библиотека для работы с машинным обучением и глубокими нейронными сетями\n",
        "import pandas as pd\n",
        "import whisper\n",
        "import torchaudio #модуль для работы с аудиоданными в PyTorch\n",
        "\n",
        "DEVICE = \"cuda\" if torch.cuda.is_available() else \"cpu\""
      ],
      "metadata": {
        "id": "thHOxT909Dg2"
      },
      "execution_count": null,
      "outputs": []
    },
    {
      "cell_type": "code",
      "source": [
        "class LibriSpeech(torch.utils.data.Dataset):\n",
        "    def __init__(self, split=\"test-clean\", device=DEVICE): # загрузка набора данных LibriSpeech из библиотеки torchaudio.datasets\n",
        "        self.dataset = torchaudio.datasets.LIBRISPEECH(\n",
        "            root=os.path.expanduser(\"~/.cache\"),\n",
        "            url=split,\n",
        "            download=True, # данные должны быть загружены из Интернета, если они отсутствуют локально\n",
        "        )\n",
        "        self.device = device\n",
        "\n",
        "    def __len__(self): # возвращает длину набора данных\n",
        "        return len(self.dataset)\n",
        "\n",
        "    def __getitem__(self, item):\n",
        "        audio, sample_rate, text, _, _, _ = self.dataset[item] # распаковка данных\n",
        "        assert sample_rate == 16000 #проверяется, что частота дискретизации sample_rate равна 16000 Гц\n",
        "        audio = whisper.pad_or_trim(audio.flatten()).to(self.device) #дополняется или обрезается до требуемой длины одномерный массив\n",
        "        mel = whisper.log_mel_spectrogram(audio) #вычисление спектограммы\n",
        "\n",
        "        return (mel, text)"
      ],
      "metadata": {
        "id": "ssPvWef5_I9Y"
      },
      "execution_count": null,
      "outputs": []
    },
    {
      "cell_type": "markdown",
      "source": [
        "Загрузка незашумленных аудиозаписей"
      ],
      "metadata": {
        "id": "MWQmEUr5xeUQ"
      }
    },
    {
      "cell_type": "code",
      "source": [
        "dataset_clean = LibriSpeech(\"test-clean\")\n",
        "loader_clean = torch.utils.data.DataLoader(dataset_clean, batch_size=16)"
      ],
      "metadata": {
        "colab": {
          "base_uri": "https://localhost:8080/"
        },
        "id": "omvgzWEk_LoI",
        "outputId": "c4c30836-aef4-4f72-c006-c63debec31ff"
      },
      "execution_count": null,
      "outputs": [
        {
          "output_type": "stream",
          "name": "stderr",
          "text": [
            "100%|██████████| 331M/331M [00:20<00:00, 17.3MB/s]\n"
          ]
        }
      ]
    },
    {
      "cell_type": "markdown",
      "source": [
        "Модель \"tiny\""
      ],
      "metadata": {
        "id": "7dSaQu6W08Hw"
      }
    },
    {
      "cell_type": "code",
      "source": [
        "model_tiny = whisper.load_model(\"tiny.en\")\n",
        "print(\n",
        "    f\"Model is {'multilingual' if model_tiny.is_multilingual else 'English-only'} \"\n",
        "    f\"and has {sum(np.prod(p.shape) for p in model_tiny.parameters()):,} parameters.\"\n",
        ")\n",
        "options = whisper.DecodingOptions(language=\"en\", without_timestamps=True)"
      ],
      "metadata": {
        "colab": {
          "base_uri": "https://localhost:8080/"
        },
        "id": "LRGhdSs907tA",
        "outputId": "71648406-4a6e-44e4-cd3a-20ae295a9726"
      },
      "execution_count": null,
      "outputs": [
        {
          "output_type": "stream",
          "name": "stdout",
          "text": [
            "Model is English-only and has 37,184,256 parameters.\n"
          ]
        }
      ]
    },
    {
      "cell_type": "code",
      "source": [
        "hypotheses_tiny = [] #распознанный\n",
        "references_tiny = [] #эталонный\n",
        "\n",
        "for mels, texts in tqdm(loader_clean): # tqdm используется для отображения прогресс-бара во время выполнения цикла\n",
        "    results = model_tiny.decode(mels, options)\n",
        "    hypotheses_tiny.extend([result.text for result in results]) #добаваление расшифрованного текста\n",
        "    references_tiny.extend(texts)\n"
      ],
      "metadata": {
        "colab": {
          "base_uri": "https://localhost:8080/",
          "height": 49,
          "referenced_widgets": [
            "39270c6ae19644b0a34c1fcec37f708d",
            "e2c2945fa0eb4d76aa1a797c66edeb82",
            "96885dad84bd4116bd57e61f90451110",
            "d64b5493da05496bbebc032e8685a7f6",
            "35140bfe1da74b8eb5fb58931d754538",
            "4b48ee35b4f64328a642ff80114d9810",
            "78237d294aeb410eaf5795c007e30797",
            "c822e0391a3f47c785678947b9a3200f",
            "9763303a62d7485eb87ad88414c4d3f8",
            "78fec6ce93ef47818d104385137338bb",
            "d66f2833b3b04126b069d15eadecf463"
          ]
        },
        "id": "ejsLUSvt1T0P",
        "outputId": "4d37e968-4cd3-4913-c75d-3e339824dcfe"
      },
      "execution_count": null,
      "outputs": [
        {
          "output_type": "display_data",
          "data": {
            "text/plain": [
              "  0%|          | 0/164 [00:00<?, ?it/s]"
            ],
            "application/vnd.jupyter.widget-view+json": {
              "version_major": 2,
              "version_minor": 0,
              "model_id": "39270c6ae19644b0a34c1fcec37f708d"
            }
          },
          "metadata": {}
        }
      ]
    },
    {
      "cell_type": "code",
      "source": [
        "data_tiny = pd.DataFrame(dict(hypothesis_tiny=hypotheses_tiny, reference_tiny=references_tiny)) #таблица из распознанного и эталонного теста"
      ],
      "metadata": {
        "id": "lbf5MskQ1b-_"
      },
      "execution_count": null,
      "outputs": []
    },
    {
      "cell_type": "markdown",
      "source": [
        "\n",
        "Модель \"base\""
      ],
      "metadata": {
        "id": "tUvIyGRu_vGU"
      }
    },
    {
      "cell_type": "code",
      "source": [
        "model_base = whisper.load_model(\"base.en\")\n",
        "print(\n",
        "    f\"Model is {'multilingual' if model_base.is_multilingual else 'English-only'} \"\n",
        "    f\"and has {sum(np.prod(p.shape) for p in model_base.parameters()):,} parameters.\"\n",
        ")\n",
        "options = whisper.DecodingOptions(language=\"en\", without_timestamps=True)\n",
        "hypotheses_base = []\n",
        "references_base = []\n",
        "\n",
        "for mels, texts in tqdm(loader_clean):\n",
        "    results = model_base.decode(mels, options)\n",
        "    hypotheses_base.extend([result.text for result in results])\n",
        "    references_base.extend(texts)"
      ],
      "metadata": {
        "colab": {
          "base_uri": "https://localhost:8080/"
        },
        "id": "9fuh5te1_lEE",
        "outputId": "d1e1f8f8-1c91-48e9-e22b-fea3b6ba28b1"
      },
      "execution_count": null,
      "outputs": [
        {
          "output_type": "stream",
          "name": "stdout",
          "text": [
            "Model is English-only and has 71,825,408 parameters.\n"
          ]
        }
      ]
    },
    {
      "cell_type": "code",
      "source": [
        "data_base = pd.DataFrame(dict(hypothesis_base=hypotheses_base, reference_base=references_base))"
      ],
      "metadata": {
        "id": "ENGjbMhD_8Hg"
      },
      "execution_count": null,
      "outputs": []
    },
    {
      "cell_type": "markdown",
      "source": [
        "Модель \"Small\""
      ],
      "metadata": {
        "id": "8zTzTMuS1s1F"
      }
    },
    {
      "cell_type": "code",
      "source": [
        "model_small = whisper.load_model(\"small.en\")\n",
        "print(\n",
        "    f\"Model is {'multilingual' if model_small.is_multilingual else 'English-only'} \"\n",
        "    f\"and has {sum(np.prod(p.shape) for p in model_small.parameters()):,} parameters.\"\n",
        ")\n",
        "options = whisper.DecodingOptions(language=\"en\", without_timestamps=True)\n",
        "hypotheses_small = []\n",
        "references_small = []\n",
        "\n",
        "for mels, texts in tqdm(loader_clean):\n",
        "    results = model_small.decode(mels, options)\n",
        "    hypotheses_small.extend([result.text for result in results])\n",
        "    references_small.extend(texts)"
      ],
      "metadata": {
        "colab": {
          "base_uri": "https://localhost:8080/"
        },
        "id": "aLrVDtVf11NG",
        "outputId": "576cee21-8b3e-431f-eabb-b656c3e7b8ac"
      },
      "execution_count": null,
      "outputs": [
        {
          "output_type": "stream",
          "name": "stderr",
          "text": [
            "100%|███████████████████████████████████████| 461M/461M [00:09<00:00, 49.5MiB/s]\n"
          ]
        },
        {
          "output_type": "stream",
          "name": "stdout",
          "text": [
            "Model is English-only and has 240,582,144 parameters.\n"
          ]
        }
      ]
    },
    {
      "cell_type": "code",
      "source": [
        "data_small = pd.DataFrame(dict(hypothesis_small=hypotheses_small, reference_small=references_small))\n"
      ],
      "metadata": {
        "id": "d93Oeh_B2QSU"
      },
      "execution_count": null,
      "outputs": []
    },
    {
      "cell_type": "markdown",
      "source": [
        "Модель \"medium\""
      ],
      "metadata": {
        "id": "vGB_d81c2j4N"
      }
    },
    {
      "cell_type": "code",
      "source": [
        "model_medium = whisper.load_model(\"medium.en\")\n",
        "print(\n",
        "    f\"Model is {'multilingual' if model_medium.is_multilingual else 'English-only'} \"\n",
        "    f\"and has {sum(np.prod(p.shape) for p in model_medium.parameters()):,} parameters.\"\n",
        ")\n",
        "options = whisper.DecodingOptions(language=\"en\", without_timestamps=True)"
      ],
      "metadata": {
        "colab": {
          "base_uri": "https://localhost:8080/"
        },
        "id": "bhB0U1j_2rcx",
        "outputId": "e78f3a1e-c0cc-4bb7-b33b-0a90c8c00101"
      },
      "execution_count": null,
      "outputs": [
        {
          "output_type": "stream",
          "name": "stderr",
          "text": [
            "100%|█████████████████████████████████████| 1.42G/1.42G [00:57<00:00, 26.5MiB/s]\n"
          ]
        },
        {
          "output_type": "stream",
          "name": "stdout",
          "text": [
            "Model is English-only and has 762,320,896 parameters.\n"
          ]
        }
      ]
    },
    {
      "cell_type": "code",
      "source": [
        "hypotheses_medium = []\n",
        "references_medium = []\n",
        "\n",
        "for mels, texts in tqdm(loader_clean):\n",
        "    results = model_medium.decode(mels, options)\n",
        "    hypotheses_medium.extend([result.text for result in results])\n",
        "    references_medium.extend(texts)"
      ],
      "metadata": {
        "colab": {
          "base_uri": "https://localhost:8080/",
          "height": 49,
          "referenced_widgets": [
            "608d8cfa30bd465288d13031cc36765a",
            "e5cc78c8993646b8b2f1dfa2a2ce2da2",
            "1a01e28f02fc497a90041d7f786d1e5f",
            "b857681cb1484d3abb466f363d2b347e",
            "16bd0d0794914f3a8abe103a3abcb3b8",
            "0cc4650006e644eeaa3eb81d158a4927",
            "99e04673b1434a1bb58ae3f14841c23c",
            "eb3c0414e4574d2a84fd5194da9a547f",
            "c7571d1ca97746ec9b99709d5b99a20e",
            "e12de2816dd544c1bf66fa34e49c004f",
            "a65f33195256498d8ac479b4c3e181ad"
          ]
        },
        "id": "uFu-nf4k20Yh",
        "outputId": "7d6d11ef-eea0-4462-8c18-406b4db14ad1"
      },
      "execution_count": null,
      "outputs": [
        {
          "output_type": "display_data",
          "data": {
            "text/plain": [
              "  0%|          | 0/164 [00:00<?, ?it/s]"
            ],
            "application/vnd.jupyter.widget-view+json": {
              "version_major": 2,
              "version_minor": 0,
              "model_id": "608d8cfa30bd465288d13031cc36765a"
            }
          },
          "metadata": {}
        }
      ]
    },
    {
      "cell_type": "code",
      "source": [
        "data_medium = pd.DataFrame(dict(hypothesis_medium=hypotheses_medium, reference_medium=references_medium))"
      ],
      "metadata": {
        "id": "Ihw18RWU4csq"
      },
      "execution_count": null,
      "outputs": []
    },
    {
      "cell_type": "markdown",
      "source": [
        "Модель \"large\""
      ],
      "metadata": {
        "id": "U2r2GVCG4oAG"
      }
    },
    {
      "cell_type": "code",
      "source": [
        "model_large = whisper.load_model(\"large-v1\")\n",
        "print(\n",
        "    f\"Model is {'multilingual' if model_large.is_multilingual else 'English-only'} \"\n",
        "    f\"and has {sum(np.prod(p.shape) for p in model_large.parameters()):,} parameters.\"\n",
        ")\n",
        "options = whisper.DecodingOptions(language=\"en\", without_timestamps=True)\n",
        "hypotheses_large = []\n",
        "references_large = []\n",
        "\n",
        "for mels, texts in tqdm(loader_clean):\n",
        "    results = model_large.decode(mels, options)\n",
        "    hypotheses_large.extend([result.text for result in results])\n",
        "    references_large.extend(texts)"
      ],
      "metadata": {
        "colab": {
          "base_uri": "https://localhost:8080/"
        },
        "id": "WbApei1W4zua",
        "outputId": "0ca20278-d194-48a7-958b-937635e87b08"
      },
      "execution_count": null,
      "outputs": [
        {
          "output_type": "stream",
          "name": "stderr",
          "text": [
            "100%|█████████████████████████████████████| 2.87G/2.87G [00:58<00:00, 52.4MiB/s]\n"
          ]
        },
        {
          "output_type": "stream",
          "name": "stdout",
          "text": [
            "Model is multilingual and has 1,541,384,960 parameters.\n"
          ]
        }
      ]
    },
    {
      "cell_type": "code",
      "source": [
        "data_large = pd.DataFrame(dict(hypothesis_large=hypotheses_large, reference_large=references_large))\n"
      ],
      "metadata": {
        "id": "JmJj9g9040lY"
      },
      "execution_count": null,
      "outputs": []
    },
    {
      "cell_type": "markdown",
      "source": [
        " WER для clean-LibriSpeech"
      ],
      "metadata": {
        "id": "F3EbWtzBANEt"
      }
    },
    {
      "cell_type": "code",
      "source": [
        "!pip install jiwer\n"
      ],
      "metadata": {
        "colab": {
          "base_uri": "https://localhost:8080/"
        },
        "id": "ItdYShDpHHj6",
        "outputId": "a060191d-7810-4f72-8441-05cb3dc0b3a9"
      },
      "execution_count": null,
      "outputs": [
        {
          "output_type": "stream",
          "name": "stdout",
          "text": [
            "Requirement already satisfied: jiwer in /usr/local/lib/python3.10/dist-packages (3.0.4)\n",
            "Requirement already satisfied: click<9.0.0,>=8.1.3 in /usr/local/lib/python3.10/dist-packages (from jiwer) (8.1.7)\n",
            "Requirement already satisfied: rapidfuzz<4,>=3 in /usr/local/lib/python3.10/dist-packages (from jiwer) (3.9.0)\n"
          ]
        }
      ]
    },
    {
      "cell_type": "code",
      "source": [
        "import locale\n",
        "locale.getpreferredencoding = lambda: \"UTF-8\" # установка кодировки\n",
        "import jiwer\n",
        "from whisper.normalizers import EnglishTextNormalizer #Нормалаизация текста\n",
        "normalizer = EnglishTextNormalizer()"
      ],
      "metadata": {
        "id": "WMurERiMJmDM"
      },
      "execution_count": null,
      "outputs": []
    },
    {
      "cell_type": "code",
      "source": [
        "data_tiny[\"hypothesis_tiny\"] = [normalizer(text) for text in data_tiny[\"hypothesis_tiny\"]]\n",
        "data_tiny[\"reference_tiny\"] = [normalizer(text) for text in data_tiny[\"reference_tiny\"]]\n",
        "data_tiny"
      ],
      "metadata": {
        "colab": {
          "base_uri": "https://localhost:8080/",
          "height": 423
        },
        "id": "nlu_vDsjM4ni",
        "outputId": "a36bfd59-ba36-4924-a3c0-6018ac4a3fe4"
      },
      "execution_count": null,
      "outputs": [
        {
          "output_type": "execute_result",
          "data": {
            "text/plain": [
              "                                        hypothesis_tiny  \\\n",
              "0     he hoped there would be stew for dinner turnip...   \n",
              "1            stuffered into you his belly counseled him   \n",
              "2     after early nightfall the yellow lamps would l...   \n",
              "3                    hello bertie any good in your mind   \n",
              "4     number 10 fresh nelly is waiting on you good n...   \n",
              "...                                                 ...   \n",
              "2615  0 to shoot my soul is full meaning into future...   \n",
              "2616  then i long tried by natural ills received the...   \n",
              "2617  i love thee freely as men strive for right i l...   \n",
              "2618  i love thee with the passion put to use in my ...   \n",
              "2619  i love thee with a love i seemed to lose with ...   \n",
              "\n",
              "                                         reference_tiny  \n",
              "0     he hoped there would be stew for dinner turnip...  \n",
              "1             stuff it into you his belly counseled him  \n",
              "2     after early nightfall the yellow lamps would l...  \n",
              "3                    hello bertie any good in your mind  \n",
              "4     number 10 fresh nelly is waiting on you good n...  \n",
              "...                                                 ...  \n",
              "2615  0 to shoot my soul is full meaning into future...  \n",
              "2616  then i long tried by natural ills received the...  \n",
              "2617  i love thee freely as men strive for right i l...  \n",
              "2618  i love thee with the passion put to use in my ...  \n",
              "2619  i love thee with a love i seemed to lose with ...  \n",
              "\n",
              "[2620 rows x 2 columns]"
            ],
            "text/html": [
              "\n",
              "  <div id=\"df-de730931-75a5-4a1e-b06f-a93e6197d2d6\" class=\"colab-df-container\">\n",
              "    <div>\n",
              "<style scoped>\n",
              "    .dataframe tbody tr th:only-of-type {\n",
              "        vertical-align: middle;\n",
              "    }\n",
              "\n",
              "    .dataframe tbody tr th {\n",
              "        vertical-align: top;\n",
              "    }\n",
              "\n",
              "    .dataframe thead th {\n",
              "        text-align: right;\n",
              "    }\n",
              "</style>\n",
              "<table border=\"1\" class=\"dataframe\">\n",
              "  <thead>\n",
              "    <tr style=\"text-align: right;\">\n",
              "      <th></th>\n",
              "      <th>hypothesis_tiny</th>\n",
              "      <th>reference_tiny</th>\n",
              "    </tr>\n",
              "  </thead>\n",
              "  <tbody>\n",
              "    <tr>\n",
              "      <th>0</th>\n",
              "      <td>he hoped there would be stew for dinner turnip...</td>\n",
              "      <td>he hoped there would be stew for dinner turnip...</td>\n",
              "    </tr>\n",
              "    <tr>\n",
              "      <th>1</th>\n",
              "      <td>stuffered into you his belly counseled him</td>\n",
              "      <td>stuff it into you his belly counseled him</td>\n",
              "    </tr>\n",
              "    <tr>\n",
              "      <th>2</th>\n",
              "      <td>after early nightfall the yellow lamps would l...</td>\n",
              "      <td>after early nightfall the yellow lamps would l...</td>\n",
              "    </tr>\n",
              "    <tr>\n",
              "      <th>3</th>\n",
              "      <td>hello bertie any good in your mind</td>\n",
              "      <td>hello bertie any good in your mind</td>\n",
              "    </tr>\n",
              "    <tr>\n",
              "      <th>4</th>\n",
              "      <td>number 10 fresh nelly is waiting on you good n...</td>\n",
              "      <td>number 10 fresh nelly is waiting on you good n...</td>\n",
              "    </tr>\n",
              "    <tr>\n",
              "      <th>...</th>\n",
              "      <td>...</td>\n",
              "      <td>...</td>\n",
              "    </tr>\n",
              "    <tr>\n",
              "      <th>2615</th>\n",
              "      <td>0 to shoot my soul is full meaning into future...</td>\n",
              "      <td>0 to shoot my soul is full meaning into future...</td>\n",
              "    </tr>\n",
              "    <tr>\n",
              "      <th>2616</th>\n",
              "      <td>then i long tried by natural ills received the...</td>\n",
              "      <td>then i long tried by natural ills received the...</td>\n",
              "    </tr>\n",
              "    <tr>\n",
              "      <th>2617</th>\n",
              "      <td>i love thee freely as men strive for right i l...</td>\n",
              "      <td>i love thee freely as men strive for right i l...</td>\n",
              "    </tr>\n",
              "    <tr>\n",
              "      <th>2618</th>\n",
              "      <td>i love thee with the passion put to use in my ...</td>\n",
              "      <td>i love thee with the passion put to use in my ...</td>\n",
              "    </tr>\n",
              "    <tr>\n",
              "      <th>2619</th>\n",
              "      <td>i love thee with a love i seemed to lose with ...</td>\n",
              "      <td>i love thee with a love i seemed to lose with ...</td>\n",
              "    </tr>\n",
              "  </tbody>\n",
              "</table>\n",
              "<p>2620 rows × 2 columns</p>\n",
              "</div>\n",
              "    <div class=\"colab-df-buttons\">\n",
              "\n",
              "  <div class=\"colab-df-container\">\n",
              "    <button class=\"colab-df-convert\" onclick=\"convertToInteractive('df-de730931-75a5-4a1e-b06f-a93e6197d2d6')\"\n",
              "            title=\"Convert this dataframe to an interactive table.\"\n",
              "            style=\"display:none;\">\n",
              "\n",
              "  <svg xmlns=\"http://www.w3.org/2000/svg\" height=\"24px\" viewBox=\"0 -960 960 960\">\n",
              "    <path d=\"M120-120v-720h720v720H120Zm60-500h600v-160H180v160Zm220 220h160v-160H400v160Zm0 220h160v-160H400v160ZM180-400h160v-160H180v160Zm440 0h160v-160H620v160ZM180-180h160v-160H180v160Zm440 0h160v-160H620v160Z\"/>\n",
              "  </svg>\n",
              "    </button>\n",
              "\n",
              "  <style>\n",
              "    .colab-df-container {\n",
              "      display:flex;\n",
              "      gap: 12px;\n",
              "    }\n",
              "\n",
              "    .colab-df-convert {\n",
              "      background-color: #E8F0FE;\n",
              "      border: none;\n",
              "      border-radius: 50%;\n",
              "      cursor: pointer;\n",
              "      display: none;\n",
              "      fill: #1967D2;\n",
              "      height: 32px;\n",
              "      padding: 0 0 0 0;\n",
              "      width: 32px;\n",
              "    }\n",
              "\n",
              "    .colab-df-convert:hover {\n",
              "      background-color: #E2EBFA;\n",
              "      box-shadow: 0px 1px 2px rgba(60, 64, 67, 0.3), 0px 1px 3px 1px rgba(60, 64, 67, 0.15);\n",
              "      fill: #174EA6;\n",
              "    }\n",
              "\n",
              "    .colab-df-buttons div {\n",
              "      margin-bottom: 4px;\n",
              "    }\n",
              "\n",
              "    [theme=dark] .colab-df-convert {\n",
              "      background-color: #3B4455;\n",
              "      fill: #D2E3FC;\n",
              "    }\n",
              "\n",
              "    [theme=dark] .colab-df-convert:hover {\n",
              "      background-color: #434B5C;\n",
              "      box-shadow: 0px 1px 3px 1px rgba(0, 0, 0, 0.15);\n",
              "      filter: drop-shadow(0px 1px 2px rgba(0, 0, 0, 0.3));\n",
              "      fill: #FFFFFF;\n",
              "    }\n",
              "  </style>\n",
              "\n",
              "    <script>\n",
              "      const buttonEl =\n",
              "        document.querySelector('#df-de730931-75a5-4a1e-b06f-a93e6197d2d6 button.colab-df-convert');\n",
              "      buttonEl.style.display =\n",
              "        google.colab.kernel.accessAllowed ? 'block' : 'none';\n",
              "\n",
              "      async function convertToInteractive(key) {\n",
              "        const element = document.querySelector('#df-de730931-75a5-4a1e-b06f-a93e6197d2d6');\n",
              "        const dataTable =\n",
              "          await google.colab.kernel.invokeFunction('convertToInteractive',\n",
              "                                                    [key], {});\n",
              "        if (!dataTable) return;\n",
              "\n",
              "        const docLinkHtml = 'Like what you see? Visit the ' +\n",
              "          '<a target=\"_blank\" href=https://colab.research.google.com/notebooks/data_table.ipynb>data table notebook</a>'\n",
              "          + ' to learn more about interactive tables.';\n",
              "        element.innerHTML = '';\n",
              "        dataTable['output_type'] = 'display_data';\n",
              "        await google.colab.output.renderOutput(dataTable, element);\n",
              "        const docLink = document.createElement('div');\n",
              "        docLink.innerHTML = docLinkHtml;\n",
              "        element.appendChild(docLink);\n",
              "      }\n",
              "    </script>\n",
              "  </div>\n",
              "\n",
              "\n",
              "<div id=\"df-7abd16bc-59a9-43ff-a666-1e845232a824\">\n",
              "  <button class=\"colab-df-quickchart\" onclick=\"quickchart('df-7abd16bc-59a9-43ff-a666-1e845232a824')\"\n",
              "            title=\"Suggest charts\"\n",
              "            style=\"display:none;\">\n",
              "\n",
              "<svg xmlns=\"http://www.w3.org/2000/svg\" height=\"24px\"viewBox=\"0 0 24 24\"\n",
              "     width=\"24px\">\n",
              "    <g>\n",
              "        <path d=\"M19 3H5c-1.1 0-2 .9-2 2v14c0 1.1.9 2 2 2h14c1.1 0 2-.9 2-2V5c0-1.1-.9-2-2-2zM9 17H7v-7h2v7zm4 0h-2V7h2v10zm4 0h-2v-4h2v4z\"/>\n",
              "    </g>\n",
              "</svg>\n",
              "  </button>\n",
              "\n",
              "<style>\n",
              "  .colab-df-quickchart {\n",
              "      --bg-color: #E8F0FE;\n",
              "      --fill-color: #1967D2;\n",
              "      --hover-bg-color: #E2EBFA;\n",
              "      --hover-fill-color: #174EA6;\n",
              "      --disabled-fill-color: #AAA;\n",
              "      --disabled-bg-color: #DDD;\n",
              "  }\n",
              "\n",
              "  [theme=dark] .colab-df-quickchart {\n",
              "      --bg-color: #3B4455;\n",
              "      --fill-color: #D2E3FC;\n",
              "      --hover-bg-color: #434B5C;\n",
              "      --hover-fill-color: #FFFFFF;\n",
              "      --disabled-bg-color: #3B4455;\n",
              "      --disabled-fill-color: #666;\n",
              "  }\n",
              "\n",
              "  .colab-df-quickchart {\n",
              "    background-color: var(--bg-color);\n",
              "    border: none;\n",
              "    border-radius: 50%;\n",
              "    cursor: pointer;\n",
              "    display: none;\n",
              "    fill: var(--fill-color);\n",
              "    height: 32px;\n",
              "    padding: 0;\n",
              "    width: 32px;\n",
              "  }\n",
              "\n",
              "  .colab-df-quickchart:hover {\n",
              "    background-color: var(--hover-bg-color);\n",
              "    box-shadow: 0 1px 2px rgba(60, 64, 67, 0.3), 0 1px 3px 1px rgba(60, 64, 67, 0.15);\n",
              "    fill: var(--button-hover-fill-color);\n",
              "  }\n",
              "\n",
              "  .colab-df-quickchart-complete:disabled,\n",
              "  .colab-df-quickchart-complete:disabled:hover {\n",
              "    background-color: var(--disabled-bg-color);\n",
              "    fill: var(--disabled-fill-color);\n",
              "    box-shadow: none;\n",
              "  }\n",
              "\n",
              "  .colab-df-spinner {\n",
              "    border: 2px solid var(--fill-color);\n",
              "    border-color: transparent;\n",
              "    border-bottom-color: var(--fill-color);\n",
              "    animation:\n",
              "      spin 1s steps(1) infinite;\n",
              "  }\n",
              "\n",
              "  @keyframes spin {\n",
              "    0% {\n",
              "      border-color: transparent;\n",
              "      border-bottom-color: var(--fill-color);\n",
              "      border-left-color: var(--fill-color);\n",
              "    }\n",
              "    20% {\n",
              "      border-color: transparent;\n",
              "      border-left-color: var(--fill-color);\n",
              "      border-top-color: var(--fill-color);\n",
              "    }\n",
              "    30% {\n",
              "      border-color: transparent;\n",
              "      border-left-color: var(--fill-color);\n",
              "      border-top-color: var(--fill-color);\n",
              "      border-right-color: var(--fill-color);\n",
              "    }\n",
              "    40% {\n",
              "      border-color: transparent;\n",
              "      border-right-color: var(--fill-color);\n",
              "      border-top-color: var(--fill-color);\n",
              "    }\n",
              "    60% {\n",
              "      border-color: transparent;\n",
              "      border-right-color: var(--fill-color);\n",
              "    }\n",
              "    80% {\n",
              "      border-color: transparent;\n",
              "      border-right-color: var(--fill-color);\n",
              "      border-bottom-color: var(--fill-color);\n",
              "    }\n",
              "    90% {\n",
              "      border-color: transparent;\n",
              "      border-bottom-color: var(--fill-color);\n",
              "    }\n",
              "  }\n",
              "</style>\n",
              "\n",
              "  <script>\n",
              "    async function quickchart(key) {\n",
              "      const quickchartButtonEl =\n",
              "        document.querySelector('#' + key + ' button');\n",
              "      quickchartButtonEl.disabled = true;  // To prevent multiple clicks.\n",
              "      quickchartButtonEl.classList.add('colab-df-spinner');\n",
              "      try {\n",
              "        const charts = await google.colab.kernel.invokeFunction(\n",
              "            'suggestCharts', [key], {});\n",
              "      } catch (error) {\n",
              "        console.error('Error during call to suggestCharts:', error);\n",
              "      }\n",
              "      quickchartButtonEl.classList.remove('colab-df-spinner');\n",
              "      quickchartButtonEl.classList.add('colab-df-quickchart-complete');\n",
              "    }\n",
              "    (() => {\n",
              "      let quickchartButtonEl =\n",
              "        document.querySelector('#df-7abd16bc-59a9-43ff-a666-1e845232a824 button');\n",
              "      quickchartButtonEl.style.display =\n",
              "        google.colab.kernel.accessAllowed ? 'block' : 'none';\n",
              "    })();\n",
              "  </script>\n",
              "</div>\n",
              "    </div>\n",
              "  </div>\n"
            ],
            "application/vnd.google.colaboratory.intrinsic+json": {
              "type": "dataframe",
              "variable_name": "data_tiny",
              "summary": "{\n  \"name\": \"data_tiny\",\n  \"rows\": 2620,\n  \"fields\": [\n    {\n      \"column\": \"hypothesis_tiny\",\n      \"properties\": {\n        \"dtype\": \"string\",\n        \"samples\": [\n          \"all the territorial dignitaries were present governor shannon presided john calhoun the surveyor general made the principal speech a denunciation of the abolitionist supporting the topeka movement chief justice lacoste dignified the occasion with approving remarks\",\n          \"this outward mutability indicated and did not more than fairly express the various properties of her inner life\",\n          \"he must descend with his heart full of charity and severity at the same time as a brother and as a judge to those impenetrable casemates where crawl pelle nail those who bleed and those who deal the blow those who weep in those who curse those who fast and those who devour those who endure evil and those who inflict it\"\n        ],\n        \"num_unique_values\": 2620,\n        \"semantic_type\": \"\",\n        \"description\": \"\"\n      }\n    },\n    {\n      \"column\": \"reference_tiny\",\n      \"properties\": {\n        \"dtype\": \"string\",\n        \"samples\": [\n          \"all dissent all non compliance all hesitation all mere silence even were in their stronghold towns like leavenworth branded as abolitionism declared to be hostility to the public welfare and punished with proscription personal violence expulsion and frequently death\",\n          \"hester could only account for the child is character and even then most vaguely and imperfectly by recalling what she herself had been during that momentous period while pearl was imbibing her soul from the spiritual world and her bodily frame from its material of earth\",\n          \"do we really know the mountain well when we are not acquainted with the cavern\"\n        ],\n        \"num_unique_values\": 2619,\n        \"semantic_type\": \"\",\n        \"description\": \"\"\n      }\n    }\n  ]\n}"
            }
          },
          "metadata": {},
          "execution_count": 39
        }
      ]
    },
    {
      "cell_type": "code",
      "source": [
        "data_base[\"hypothesis_base\"] = [normalizer(text) for text in data_base[\"hypothesis_base\"]]\n",
        "data_base[\"reference_base\"] = [normalizer(text) for text in data_base[\"reference_base\"]]"
      ],
      "metadata": {
        "id": "YvS_M2o577bl"
      },
      "execution_count": null,
      "outputs": []
    },
    {
      "cell_type": "code",
      "source": [
        "data_small[\"hypothesis_small\"] = [normalizer(text) for text in data_small[\"hypothesis_small\"]]\n",
        "data_small[\"reference_small\"] = [normalizer(text) for text in data_small[\"reference_small\"]]"
      ],
      "metadata": {
        "id": "kjLd6UbC78c6"
      },
      "execution_count": null,
      "outputs": []
    },
    {
      "cell_type": "code",
      "source": [
        "data_medium[\"hypothesis_medium\"] = [normalizer(text) for text in data_medium[\"hypothesis_medium\"]]\n",
        "data_medium[\"reference_medium\"] = [normalizer(text) for text in data_medium[\"reference_medium\"]]"
      ],
      "metadata": {
        "id": "9KuUggUQ79Hw"
      },
      "execution_count": null,
      "outputs": []
    },
    {
      "cell_type": "code",
      "source": [
        "data_large[\"hypothesis_large\"] = [normalizer(text) for text in data_large[\"hypothesis_large\"]]\n",
        "data_large[\"reference_large\"] = [normalizer(text) for text in data_large[\"reference_large\"]]"
      ],
      "metadata": {
        "id": "ySSjXzFm7955"
      },
      "execution_count": null,
      "outputs": []
    },
    {
      "cell_type": "code",
      "source": [
        "wer_tiny_cl_en = jiwer.wer(list(data_tiny[\"reference_tiny\"]), list(data_tiny[\"hypothesis_tiny\"]))\n",
        "wer_base_cl_en = jiwer.wer(list(data_base[\"reference_base\"]), list(data_base[\"hypothesis_base\"]))\n",
        "wer_small_cl_en = jiwer.wer(list(data_small[\"reference_small\"]), list(data_small[\"hypothesis_small\"]))\n",
        "wer_medium_cl_en = jiwer.wer(list(data_medium[\"reference_medium\"]), list(data_medium[\"hypothesis_medium\"]))\n",
        "#wer_large_cl_en = jiwer.wer(list(data_large[\"reference_large\"]), list(data_large[\"hypothesis_large\"]))\n",
        "print(f\"wer_tiny_cl_en: {wer_tiny_cl_en * 100:.2f} %\")\n",
        "print(f\"wer_base_cl_en: {wer_base_cl_en * 100:.2f} %\")\n",
        "print(f\"wer_small_cl_en: {wer_small_cl_en * 100:.2f} %\")\n",
        "print(f\"wer_medium_cl_en: {wer_medium_cl_en * 100:.2f} %\")\n",
        "#print(f\"WER: {wer_large_cl_en * 100:.2f} %\")"
      ],
      "metadata": {
        "colab": {
          "base_uri": "https://localhost:8080/"
        },
        "id": "pamX5bDdJuTZ",
        "outputId": "cd9daf09-385f-42d2-f149-bff922eb8947"
      },
      "execution_count": null,
      "outputs": [
        {
          "output_type": "stream",
          "name": "stdout",
          "text": [
            "wer_tiny_cl_en: 5.60 %\n",
            "wer_base_cl_en: 4.28 %\n",
            "wer_small_cl_en: 3.05 %\n",
            "wer_medium_cl_en: 3.02 %\n"
          ]
        }
      ]
    },
    {
      "cell_type": "markdown",
      "source": [
        "Загрузка зашумленных аудиозаписей"
      ],
      "metadata": {
        "id": "HNG1-7CwMmD7"
      }
    },
    {
      "cell_type": "code",
      "source": [
        "dataset_other = LibriSpeech(\"test-other\")\n",
        "loader_other = torch.utils.data.DataLoader(dataset_other, batch_size=16)"
      ],
      "metadata": {
        "id": "5kxHrihq-ueV",
        "colab": {
          "base_uri": "https://localhost:8080/"
        },
        "outputId": "86f3d307-8173-4f31-8f9e-1d1cd016d80e"
      },
      "execution_count": null,
      "outputs": [
        {
          "output_type": "stream",
          "name": "stderr",
          "text": [
            "100%|██████████| 314M/314M [00:28<00:00, 11.4MB/s]\n"
          ]
        }
      ]
    },
    {
      "cell_type": "markdown",
      "source": [
        "Модель \"tiny\""
      ],
      "metadata": {
        "id": "DEMxXmkOA52r"
      }
    },
    {
      "cell_type": "code",
      "source": [
        "model_tiny_other = whisper.load_model(\"tiny.en\")\n",
        "print(\n",
        "    f\"Model is {'multilingual' if model_tiny_other.is_multilingual else 'English-only'} \"\n",
        "    f\"and has {sum(np.prod(p.shape) for p in model_tiny_other.parameters()):,} parameters.\"\n",
        ")\n",
        "options = whisper.DecodingOptions(language=\"en\", without_timestamps=True)"
      ],
      "metadata": {
        "id": "FcF8MGstBIRr",
        "colab": {
          "base_uri": "https://localhost:8080/"
        },
        "outputId": "1f57c363-02b0-48f0-ec3e-5c1bb880c322"
      },
      "execution_count": null,
      "outputs": [
        {
          "output_type": "stream",
          "name": "stderr",
          "text": [
            "100%|█████████████████████████████████████| 72.1M/72.1M [00:00<00:00, 79.9MiB/s]\n"
          ]
        },
        {
          "output_type": "stream",
          "name": "stdout",
          "text": [
            "Model is English-only and has 37,184,256 parameters.\n"
          ]
        }
      ]
    },
    {
      "cell_type": "code",
      "source": [
        "hypotheses_tiny_other = []\n",
        "references_tiny_other = []\n",
        "\n",
        "for mels, texts in tqdm(loader_other):\n",
        "    results = model_tiny_other.decode(mels, options)\n",
        "    hypotheses_tiny_other.extend([result.text for result in results])\n",
        "    references_tiny_other.extend(texts)\n"
      ],
      "metadata": {
        "id": "kjElQwXuBgS1",
        "colab": {
          "base_uri": "https://localhost:8080/",
          "height": 49,
          "referenced_widgets": [
            "bad4a253698f462c8136dc0fa860d22c",
            "54b7136c5d6f4184832ac9a0db2d3d2e",
            "cabfc21ba5c54dea832752d03583db58",
            "d319250d0ccf47d2992d5a2d4a0a32d4",
            "34de97e79bc54664a2aaba3413cdbc52",
            "9810e658f8fb47f39b048f9ced3dd907",
            "1b734ebdfe464920bad790edb6bb292b",
            "a95ac050566d49b2b85cc74be5a077e3",
            "49598c48e9be44dca9fb83d8216fe1da",
            "b16fcd0bcf5a417aa5117ecf5dd20e79",
            "ba69f2de063f46fb9e88b1ac518fbf51"
          ]
        },
        "outputId": "672f86ce-d2b8-4496-c5b0-c8c763f9afbc"
      },
      "execution_count": null,
      "outputs": [
        {
          "output_type": "display_data",
          "data": {
            "text/plain": [
              "  0%|          | 0/184 [00:00<?, ?it/s]"
            ],
            "application/vnd.jupyter.widget-view+json": {
              "version_major": 2,
              "version_minor": 0,
              "model_id": "bad4a253698f462c8136dc0fa860d22c"
            }
          },
          "metadata": {}
        }
      ]
    },
    {
      "cell_type": "code",
      "source": [
        "data_tiny_other = pd.DataFrame(dict(hypothesis_tiny_other=hypotheses_tiny_other, reference_tiny_other=references_tiny_other))"
      ],
      "metadata": {
        "id": "psnJouP7BguE"
      },
      "execution_count": null,
      "outputs": []
    },
    {
      "cell_type": "markdown",
      "source": [
        "Модель \"base\""
      ],
      "metadata": {
        "id": "KPyKt8nXB9lV"
      }
    },
    {
      "cell_type": "code",
      "source": [
        "model_base_other = whisper.load_model(\"base.en\")\n",
        "print(\n",
        "    f\"Model is {'multilingual' if model_base_other.is_multilingual else 'English-only'} \"\n",
        "    f\"and has {sum(np.prod(p.shape) for p in model_base_other.parameters()):,} parameters.\"\n",
        ")\n",
        "options = whisper.DecodingOptions(language=\"en\", without_timestamps=True)"
      ],
      "metadata": {
        "id": "nP90jPtnB-K6",
        "colab": {
          "base_uri": "https://localhost:8080/"
        },
        "outputId": "f07e43d1-8e75-4014-f4aa-4c88dadd28ae"
      },
      "execution_count": null,
      "outputs": [
        {
          "output_type": "stream",
          "name": "stderr",
          "text": [
            "100%|████████████████████████████████████████| 139M/139M [00:01<00:00, 116MiB/s]\n"
          ]
        },
        {
          "output_type": "stream",
          "name": "stdout",
          "text": [
            "Model is English-only and has 71,825,408 parameters.\n"
          ]
        }
      ]
    },
    {
      "cell_type": "code",
      "source": [
        "hypotheses_base_other = []\n",
        "references_base_other = []\n",
        "\n",
        "for mels, texts in tqdm(loader_other):\n",
        "    results = model_base_other.decode(mels, options)\n",
        "    hypotheses_base_other.extend([result.text for result in results])\n",
        "    references_base_other.extend(texts)"
      ],
      "metadata": {
        "id": "miYgbBL4B-rH",
        "colab": {
          "base_uri": "https://localhost:8080/",
          "height": 49,
          "referenced_widgets": [
            "1cd95e8f6edf4460b9b093e344b482f0",
            "62b0db61e74b4cbaae0fc109027f7b9a",
            "41f9328ee6874016973174fce0419998",
            "d5155b9422e942ddb0256e96841dc7b1",
            "5e4380b1688d4707869c88df2760bda9",
            "69f93dc484944537940770b276db951b",
            "fc2304aecb874edaacb0f0ea3101decc",
            "b17dc2a6eda34847b46afc87a932a66e",
            "760b14553bd44c03bab0acbb3312c68c",
            "96463927af564df593fef392f8861b27",
            "ff7655fb1b48477e9aee9d2efa648fcd"
          ]
        },
        "outputId": "14a19f83-8e47-48ae-dae4-5c9ba9cc93d8"
      },
      "execution_count": null,
      "outputs": [
        {
          "output_type": "display_data",
          "data": {
            "text/plain": [
              "  0%|          | 0/184 [00:00<?, ?it/s]"
            ],
            "application/vnd.jupyter.widget-view+json": {
              "version_major": 2,
              "version_minor": 0,
              "model_id": "1cd95e8f6edf4460b9b093e344b482f0"
            }
          },
          "metadata": {}
        }
      ]
    },
    {
      "cell_type": "code",
      "source": [
        "data_base_other = pd.DataFrame(dict(hypothesis_base_other=hypotheses_base_other, reference_base_other=references_base_other))"
      ],
      "metadata": {
        "id": "810B-R4zB_Cu"
      },
      "execution_count": null,
      "outputs": []
    },
    {
      "cell_type": "markdown",
      "source": [
        "Модель \"Small\""
      ],
      "metadata": {
        "id": "LJTyWq5vDI6N"
      }
    },
    {
      "cell_type": "code",
      "source": [
        "model_small_other = whisper.load_model(\"small.en\")\n",
        "print(\n",
        "    f\"Model is {'multilingual' if model_small_other.is_multilingual else 'English-only'} \"\n",
        "    f\"and has {sum(np.prod(p.shape) for p in model_small_other.parameters()):,} parameters.\"\n",
        ")\n",
        "options = whisper.DecodingOptions(language=\"en\", without_timestamps=True)"
      ],
      "metadata": {
        "id": "WIn_Co08MyLY",
        "colab": {
          "base_uri": "https://localhost:8080/"
        },
        "outputId": "35f85c7b-e402-4e93-fb1d-668ae9725f15"
      },
      "execution_count": null,
      "outputs": [
        {
          "output_type": "stream",
          "name": "stderr",
          "text": [
            "100%|███████████████████████████████████████| 461M/461M [02:22<00:00, 3.39MiB/s]\n"
          ]
        },
        {
          "output_type": "stream",
          "name": "stdout",
          "text": [
            "Model is English-only and has 240,582,144 parameters.\n"
          ]
        }
      ]
    },
    {
      "cell_type": "code",
      "source": [
        "hypotheses_small_other = []\n",
        "references_small_other = []\n",
        "\n",
        "for mels, texts in tqdm(loader_other):\n",
        "    results = model_small_other.decode(mels, options)\n",
        "    hypotheses_small_other.extend([result.text for result in results])\n",
        "    references_small_other.extend(texts)"
      ],
      "metadata": {
        "id": "ceoCqSJSDPK7",
        "colab": {
          "base_uri": "https://localhost:8080/",
          "height": 49,
          "referenced_widgets": [
            "868f06de220141378fa33ed32baad2ae",
            "ff97fdee3dfd4e738988a6c47b07552c",
            "ee49fcd5f74c4ca2adea5225a33c8178",
            "2f5c1504a8f74a05a26e0002cd2b3943",
            "3dbd4c4ec038486b84890839b6df5760",
            "584821a92e1a4698abe146cc38f8703e",
            "25e865a98fb1401b970ee74ac09905ef",
            "8cd7c067aa114efe8b91ce660fa9bb79",
            "78673a882ae94bc58ed1bf1da0ad2fed",
            "acb766dc6dbc4467a75c4419574f4368",
            "cabe0697ba1a44c194b4385f85765e80"
          ]
        },
        "outputId": "7c2ab6a1-05d0-475f-d4d0-6f3750981b7e"
      },
      "execution_count": null,
      "outputs": [
        {
          "output_type": "display_data",
          "data": {
            "text/plain": [
              "  0%|          | 0/184 [00:00<?, ?it/s]"
            ],
            "application/vnd.jupyter.widget-view+json": {
              "version_major": 2,
              "version_minor": 0,
              "model_id": "868f06de220141378fa33ed32baad2ae"
            }
          },
          "metadata": {}
        }
      ]
    },
    {
      "cell_type": "code",
      "source": [
        "data_small_other = pd.DataFrame(dict(hypothesis_small_other=hypotheses_small_other, reference_small_other=references_small_other))"
      ],
      "metadata": {
        "id": "JOcvB_u0DRfW"
      },
      "execution_count": null,
      "outputs": []
    },
    {
      "cell_type": "markdown",
      "source": [
        "Модель \"medium\""
      ],
      "metadata": {
        "id": "wRnkCCdmR6s9"
      }
    },
    {
      "cell_type": "code",
      "source": [
        "model_medium_other = whisper.load_model(\"medium.en\")\n",
        "print(\n",
        "    f\"Model is {'multilingual' if model_medium_other.is_multilingual else 'English-only'} \"\n",
        "    f\"and has {sum(np.prod(p.shape) for p in model_medium_other.parameters()):,} parameters.\"\n",
        ")\n",
        "options = whisper.DecodingOptions(language=\"en\", without_timestamps=True)\n",
        "hypotheses_medium_other = []\n",
        "references_medium_other = []\n",
        "\n",
        "for mels, texts in tqdm(loader_other):\n",
        "    results = model_medium_other.decode(mels, options)\n",
        "    hypotheses_medium_other.extend([result.text for result in results])\n",
        "    references_medium_other.extend(texts)"
      ],
      "metadata": {
        "colab": {
          "base_uri": "https://localhost:8080/",
          "height": 84,
          "referenced_widgets": [
            "8c36c18c0f5a41598ae7a784a07e0c08",
            "8ed63cdd075146029d5719d0fa7d4f48",
            "cfbf2028f02749ccbbf0c89373a489ba",
            "ec5a4c35d2ed49bfb82d127746afd7a5",
            "5a04ed36591544ba876003379da9f3ff",
            "ad596f2b6c71494596ee1bc054ce46a1",
            "920e45a1a63a4300aca8c93e8ab83bc7",
            "e04b9c59e3f642eea1297c8939b15bda",
            "55fc6ded90d34f3693393dec0c75177f",
            "8ca0da3f0b054fe68aa04cd2febaa57b",
            "c020b32904164cbcaaf38536292d1f93"
          ]
        },
        "id": "v0lvV6DwRu1_",
        "outputId": "9121d87d-77da-4304-a15e-b3c527b9d48c"
      },
      "execution_count": null,
      "outputs": [
        {
          "output_type": "stream",
          "name": "stderr",
          "text": [
            "100%|█████████████████████████████████████| 1.42G/1.42G [01:25<00:00, 17.8MiB/s]\n"
          ]
        },
        {
          "output_type": "stream",
          "name": "stdout",
          "text": [
            "Model is English-only and has 762,320,896 parameters.\n"
          ]
        },
        {
          "output_type": "display_data",
          "data": {
            "text/plain": [
              "  0%|          | 0/184 [00:00<?, ?it/s]"
            ],
            "application/vnd.jupyter.widget-view+json": {
              "version_major": 2,
              "version_minor": 0,
              "model_id": "8c36c18c0f5a41598ae7a784a07e0c08"
            }
          },
          "metadata": {}
        }
      ]
    },
    {
      "cell_type": "code",
      "source": [
        "data_medium_other = pd.DataFrame(dict(hypothesis_medium_other=hypotheses_medium_other, reference_medium_other=references_medium_other))"
      ],
      "metadata": {
        "id": "_4hFVlOCR5AM"
      },
      "execution_count": null,
      "outputs": []
    },
    {
      "cell_type": "markdown",
      "source": [
        "Расчет WER для зашумленного англоязычного датасета"
      ],
      "metadata": {
        "id": "gOUFGw9KMJSB"
      }
    },
    {
      "cell_type": "code",
      "source": [
        "data_tiny_other[\"hypothesis_tiny_other\"] = [normalizer(text) for text in data_tiny_other[\"hypothesis_tiny_other\"]]\n",
        "data_tiny_other[\"reference_tiny_other\"] = [normalizer(text) for text in data_tiny_other[\"reference_tiny_other\"]]\n",
        "\n",
        "data_base_other[\"hypothesis_base_other\"] = [normalizer(text) for text in data_base_other[\"hypothesis_base_other\"]]\n",
        "data_base_other[\"reference_base_other\"] = [normalizer(text) for text in data_base_other[\"reference_base_other\"]]\n",
        "\n",
        "data_small_other[\"hypothesis_small_other\"] = [normalizer(text) for text in data_small_other[\"hypothesis_small_other\"]]\n",
        "data_small_other[\"reference_small_other\"] = [normalizer(text) for text in data_small_other[\"reference_small_other\"]]\n"
      ],
      "metadata": {
        "id": "wgqcsr33J_9Z"
      },
      "execution_count": null,
      "outputs": []
    },
    {
      "cell_type": "code",
      "source": [
        "wer_tiny_other_en = jiwer.wer(list(data_tiny_other[\"reference_tiny_other\"]), list(data_tiny_other[\"hypothesis_tiny_other\"]))\n",
        "wer_base_other_en = jiwer.wer(list(data_base_other[\"reference_base_other\"]), list(data_base_other[\"hypothesis_base_other\"]))\n",
        "wer_small_other_en = jiwer.wer(list(data_small_other[\"reference_small_other\"]), list(data_small_other[\"hypothesis_small_other\"]))\n",
        "\n",
        "print(f\"wer_tiny_other_en: {wer_tiny_other_en * 100:.2f} %\")\n",
        "print(f\"wer_base_other_en: {wer_base_other_en * 100:.2f} %\")\n",
        "print(f\"wer_small_other_en: {wer_small_other_en * 100:.2f} %\")\n"
      ],
      "metadata": {
        "colab": {
          "base_uri": "https://localhost:8080/"
        },
        "id": "msIjTTWPKsPt",
        "outputId": "ebaee850-30c8-4747-f13f-4a0fa9299645"
      },
      "execution_count": null,
      "outputs": [
        {
          "output_type": "stream",
          "name": "stdout",
          "text": [
            "wer_tiny_other_en: 14.52 %\n",
            "wer_base_other_en: 10.37 %\n",
            "wer_small_other_en: 7.38 %\n"
          ]
        }
      ]
    },
    {
      "cell_type": "code",
      "source": [
        "data_medium_other[\"hypothesis_medium_other\"] = [normalizer(text) for text in data_medium_other[\"hypothesis_medium_other\"]]\n",
        "data_medium_other[\"reference_medium_other\"] = [normalizer(text) for text in data_medium_other[\"reference_medium_other\"]]\n",
        "wer_medium_other_en = jiwer.wer(list(data_medium_other[\"reference_medium_other\"]), list(data_medium_other[\"hypothesis_medium_other\"]))\n",
        "print(f\"wer_medium_other_en: {wer_medium_other_en * 100:.2f} %\")"
      ],
      "metadata": {
        "colab": {
          "base_uri": "https://localhost:8080/"
        },
        "id": "x1jP7muxYWcJ",
        "outputId": "7a515c93-49c4-4b1e-d4fc-2ee191c1a7ea"
      },
      "execution_count": null,
      "outputs": [
        {
          "output_type": "stream",
          "name": "stdout",
          "text": [
            "wer_medium_other_en: 5.87 %\n"
          ]
        }
      ]
    },
    {
      "cell_type": "markdown",
      "source": [
        "Визуализация WER\n"
      ],
      "metadata": {
        "id": "jKnttoOc_geg"
      }
    },
    {
      "cell_type": "code",
      "source": [
        "import matplotlib.pyplot as plt\n",
        "\n",
        "models = ['tiny', 'base', 'small', 'medium']\n",
        "clean_wer = [5.60, 4.28, 3.05, 3.02]\n",
        "other_wer = [14.52, 10.37, 7.38, 5.87]\n",
        "\n",
        "x = range(len(models))\n",
        "\n",
        "fig, ax = plt.subplots(figsize=(8, 6))\n",
        "\n",
        "bar_width = 0.35\n",
        "opacity = 0.8\n",
        "\n",
        "rects1 = ax.bar(x, clean_wer, bar_width, alpha=opacity, color='b', label='Clean')\n",
        "rects2 = ax.bar([i + bar_width for i in x], other_wer, bar_width, alpha=opacity, color='g', label='Other')\n",
        "\n",
        "ax.set_xlabel('Модели Whisper')\n",
        "ax.set_ylabel('WER %')\n",
        "ax.set_title('Значения WER для различных моделей Whisper на датасете LibriSpeech')\n",
        "ax.set_xticks([i + bar_width / 2 for i in x])\n",
        "ax.set_xticklabels(models)\n",
        "ax.legend()\n",
        "\n",
        "# Добавление значений на столбцах\n",
        "for rect1, rect2, c, o in zip(rects1, rects2, clean_wer, other_wer):\n",
        "    ax.text(rect1.get_x() + rect1.get_width() / 2, rect1.get_height() + 0.2, str(round(c, 2)), ha='center', va='bottom')\n",
        "    ax.text(rect2.get_x() + rect2.get_width() / 2, rect2.get_height() + 0.2, str(round(o, 2)), ha='center', va='bottom')\n",
        "\n",
        "fig.tight_layout()\n",
        "plt.show()"
      ],
      "metadata": {
        "colab": {
          "base_uri": "https://localhost:8080/",
          "height": 607
        },
        "id": "9l0Mjy16U9dH",
        "outputId": "6b75af5a-1030-4b52-b52f-efb52958ca3c"
      },
      "execution_count": 1,
      "outputs": [
        {
          "output_type": "display_data",
          "data": {
            "text/plain": [
              "<Figure size 800x600 with 1 Axes>"
            ],
            "image/png": "[encoded data removed]"
          },
          "metadata": {}
        }
      ]
    },
    {
      "cell_type": "markdown",
      "source": [
        "Визуализация анализа датасета из самостоятельно отобранных данных"
      ],
      "metadata": {
        "id": "Q4oePhJhjfuz"
      }
    },
    {
      "cell_type": "code",
      "source": [
        "import matplotlib.pyplot as plt\n",
        "import numpy as np\n",
        "\n",
        "models = ['tiny', 'base', 'small', 'medium', 'large']\n",
        "book = [22.11, 14.21, 8.42, 3.68, 7.37]\n",
        "speech_defects = [40.60, 25.64, 12.82, 11.54, 3.85]\n",
        "links = [4.35, 0.1, 0.1, 4.35, 0.72]\n",
        "noise = [80.51, 51.69, 23.66, 14.04, 11.66]\n",
        "parasier = [33.87, 18.55, 21.77, 16.19, 13.89]\n",
        "termin = [24.19, 16.13, 11.29, 6.45, 3.41]\n",
        "\n",
        "x = np.arange(len(models))\n",
        "width = 0.15\n",
        "\n",
        "fig, ax = plt.subplots(figsize=(12, 8))\n",
        "\n",
        "rects1 = ax.bar(x - 2.5*width, book, width, label='book')\n",
        "rects2 = ax.bar(x - 1.5*width, speech_defects, width, label='speech_defects')\n",
        "rects3 = ax.bar(x - 0.5*width, links, width, label='links')\n",
        "rects4 = ax.bar(x + 0.5*width, noise, width, label='noise')\n",
        "rects5 = ax.bar(x + 1.5*width, parasier, width, label='parasier')\n",
        "rects6 = ax.bar(x + 2.5*width, termin, width, label='termin')\n",
        "\n",
        "ax.set_xlabel('Модели Whisper', fontsize=12)\n",
        "ax.set_ylabel('WER (%)', fontsize=12)\n",
        "ax.set_title('Значения WER для русскоязычных аудиоданных', fontsize=14)\n",
        "ax.set_xticks(x)\n",
        "ax.set_xticklabels(models)\n",
        "ax.legend()\n",
        "\n",
        "plt.xticks(rotation=45)\n",
        "fig.tight_layout()\n",
        "plt.show()\n"
      ],
      "metadata": {
        "colab": {
          "base_uri": "https://localhost:8080/",
          "height": 807
        },
        "id": "tlr4n_0lfdHI",
        "outputId": "5fbac076-57f6-4fb9-9771-e482a4b86597"
      },
      "execution_count": null,
      "outputs": [
        {
          "output_type": "display_data",
          "data": {
            "text/plain": [
              "<Figure size 1200x800 with 1 Axes>"
            ],
            "image/png": "[encoded data removed]"
          },
          "metadata": {}
        }
      ]
    },
    {
      "cell_type": "code",
      "source": [
        "import matplotlib.pyplot as plt\n",
        "import numpy as np\n",
        "\n",
        "# Данные о WER и SF\n",
        "models = ['tiny', 'base', 'small', 'medium', 'large']\n",
        "wer = [34.27, 21.03, 11.99, 9.37, 6.81]\n",
        "sf = [0.05, 0.07, 0.11, 0.18, 0.29]\n",
        "\n",
        "# Создание фигуры и осей\n",
        "fig, (ax1, ax2) = plt.subplots(nrows=2, ncols=1, figsize=(8, 6))\n",
        "\n",
        "# Визуализация WER\n",
        "ax1.plot(models, wer, marker='o')\n",
        "ax1.set_xlabel('Модели')\n",
        "ax1.set_ylabel('WER (%)')\n",
        "ax1.set_title('Значение WER для русскоязычных аудиоданных ')\n",
        "\n",
        "# Визуализация SF\n",
        "ax2.plot(models, sf, marker='o')\n",
        "ax2.set_xlabel('Модели')\n",
        "ax2.set_ylabel('SF')\n",
        "ax2.set_title('Значения SF для русскоязычных аудиоданных')\n",
        "\n",
        "# Регулировка расстояния между подграфиками\n",
        "plt.subplots_adjust(hspace=0.5)\n",
        "\n",
        "# Отображение графика\n",
        "plt.show()\n"
      ],
      "metadata": {
        "colab": {
          "base_uri": "https://localhost:8080/",
          "height": 564
        },
        "id": "pRX7D8b9jXf1",
        "outputId": "cac4503c-8c78-4673-b5a0-cc9beb25d150"
      },
      "execution_count": null,
      "outputs": [
        {
          "output_type": "display_data",
          "data": {
            "text/plain": [
              "<Figure size 800x600 with 2 Axes>"
            ],
            "image/png": "[encoded data removed]"
          },
          "metadata": {}
        }
      ]
    }
  ]
}