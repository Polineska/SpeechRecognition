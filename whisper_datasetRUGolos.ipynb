{
  "nbformat": 4,
  "nbformat_minor": 0,
  "metadata": {
    "colab": {
      "provenance": [],
      "gpuType": "T4",
      "authorship_tag": "ABX9TyNuClWp6eBf3HvDROIOYU3u",
      "include_colab_link": true
    },
    "kernelspec": {
      "name": "python3",
      "display_name": "Python 3"
    },
    "language_info": {
      "name": "python"
    },
    "accelerator": "GPU"
  },
  "cells": [
    {
      "cell_type": "markdown",
      "metadata": {
        "id": "view-in-github",
        "colab_type": "text"
      },
      "source": [
        "<a href=\"https://colab.research.google.com/github/Polineska/SpeechRecognition/blob/main/whisper_datasetRUGolos.ipynb\" target=\"_parent\"><img src=\"https://colab.research.google.com/assets/colab-badge.svg\" alt=\"Open In Colab\"/></a>"
      ]
    },
    {
      "cell_type": "code",
      "execution_count": null,
      "metadata": {
        "id": "ZE41mqypb_My"
      },
      "outputs": [],
      "source": [
        "!pip install dataset\n",
        "!pip install git+https://github.com/openai/whisper.git\n",
        "!sudo apt update && sudo apt install ffmpeg\n",
        "!pip install jiwer -q"
      ]
    },
    {
      "cell_type": "code",
      "source": [
        "import os\n",
        "import warnings\n",
        "import whisper\n",
        "import jiwer\n",
        "import torch\n",
        "import numpy as np\n",
        "import pandas as pd"
      ],
      "metadata": {
        "id": "5DUzj6ufcKxn"
      },
      "execution_count": null,
      "outputs": []
    },
    {
      "cell_type": "code",
      "source": [
        "!pip install datasets # Подключение датасетов\n",
        "import sys\n",
        "sys.executable\n",
        "from datasets import load_dataset"
      ],
      "metadata": {
        "id": "3cPPNDYNYq4y"
      },
      "execution_count": null,
      "outputs": []
    },
    {
      "cell_type": "code",
      "source": [
        "import locale\n",
        "locale.getpreferredencoding = lambda: \"UTF-8\"\n",
        "import jiwer\n",
        "from whisper.normalizers import EnglishTextNormalizer\n",
        "\n",
        "normalizer = EnglishTextNormalizer()"
      ],
      "metadata": {
        "id": "azUXtQo1cw1v"
      },
      "execution_count": null,
      "outputs": []
    },
    {
      "cell_type": "code",
      "source": [
        "MODEL_ID = \"base\" #модель whisper (tiny, base, small, medium, large)\n",
        "DATASET_ID = \"bond005/sberdevices_golos_10h_crowd\" #незашумленный датасет\n",
        "#DATASET_ID = \"bond005/sberdevices_golos_10h_crowd_noised_2db\" #зашумленный датасет\n",
        "SAMPLES = 9900 # кол-во строк из датасета\n",
        "\n",
        "test_dataset = load_dataset(DATASET_ID, split=f\"test[:{SAMPLES}]\")\n",
        "whisper_model = whisper.load_model(MODEL_ID)\n",
        "\n",
        "# Функция для преобразования аудиофайлов в массивы\n",
        "def speech_file_to_array_fn(batch):\n",
        "    speech_array = batch[\"audio\"][\"array\"]  # Извлекает массив аудиоданных из словаря batch\n",
        "    batch[\"speech\"] = speech_array # Добавляет массив аудиоданных в словарь batch под ключом \"speech\"\n",
        "    return batch\n",
        "\n",
        "# Предобработка датасета\n",
        "removed_columns = set(test_dataset.column_names) # Удаление из множества столбцов, не относящихся к \"transcription\" и \"speech\"\n",
        "removed_columns -= {'transcription', 'speech'} # Сортировка списока удаленных столбцов\n",
        "removed_columns = sorted(list(removed_columns))\n",
        "with warnings.catch_warnings():\n",
        "    warnings.simplefilter(\"ignore\")\n",
        "    test_dataset = test_dataset.map(\n",
        "        speech_file_to_array_fn,\n",
        "        remove_columns=removed_columns\n",
        "    )\n",
        "\n",
        "# Функция для распознавания речи с помощью Whisper\n",
        "def infer_whisper(samples):\n",
        "    transcripts = []\n",
        "    for sample in samples:\n",
        "        audio = np.array(sample[\"speech\"], dtype=np.float32)  # Преобразование в numpy array\n",
        "        audio = whisper.pad_or_trim(audio)  # Обработка аудиоданных\n",
        "        mel = whisper.log_mel_spectrogram(audio).to(whisper_model.device) # Вычисление мел-спектрограммы\n",
        "        decoding_result = whisper_model.decode(mel, fp16=torch.cuda.is_available(), language=\"ru\")\n",
        "        transcript_text = decoding_result.text # Извлечение текстовой расшифровки\n",
        "        transcripts.append(transcript_text)\n",
        "    return transcripts\n",
        "# Распознавание речи и вывод результатов\n",
        "hypotheses = infer_whisper(test_dataset)\n",
        "references = test_dataset[\"transcription\"]"
      ],
      "metadata": {
        "id": "J37_FjdlcoRv"
      },
      "execution_count": null,
      "outputs": []
    },
    {
      "cell_type": "markdown",
      "source": [
        "tiny"
      ],
      "metadata": {
        "id": "SujbhHxWcW4U"
      }
    },
    {
      "cell_type": "code",
      "source": [
        "data_tiny = pd.DataFrame(dict(hypothesis_tiny=hypotheses, reference_tiny=references))\n",
        "data_tiny"
      ],
      "metadata": {
        "id": "612g9ZIRcQ4b"
      },
      "execution_count": null,
      "outputs": []
    },
    {
      "cell_type": "markdown",
      "source": [
        "base"
      ],
      "metadata": {
        "id": "kMvO01IScaem"
      }
    },
    {
      "cell_type": "code",
      "source": [
        "data_base = pd.DataFrame(dict(hypothesis_base=hypotheses, reference_base=references))\n",
        "data_base"
      ],
      "metadata": {
        "colab": {
          "base_uri": "https://localhost:8080/",
          "height": 423
        },
        "id": "KHaYa5FOcpc5",
        "outputId": "f4ac3dd0-8a09-4f36-c80d-42e9df003270"
      },
      "execution_count": null,
      "outputs": [
        {
          "output_type": "execute_result",
          "data": {
            "text/plain": [
              "                                        hypothesis_tiny  \\\n",
              "0     Солют, сколько предприятий изъебляются к резин...   \n",
              "1                                          Джой надоел.   \n",
              "2              Солют, скажи время Московской и местные.   \n",
              "3     Афина, я не хочу, чтобы сегодня звонил Гудвинник.   \n",
              "4                 Солю позвоню Владимировым Петровичем.   \n",
              "...                                                 ...   \n",
              "1595                                    Афіна закруйся.   \n",
              "1596  Joguljipa, Jalastro, Blinks, Thomas, Mcdlar, W...   \n",
              "1597              Джой, какие виды селепатия ты знаешь?   \n",
              "1598                     Почему я не нравлюсь девушкам?   \n",
              "1599          Офина, расскажи про Германа Паскара Вича.   \n",
              "\n",
              "                                         reference_tiny  \n",
              "0     салют сколько предприятий являются клиентами с...  \n",
              "1                                           джой надоел  \n",
              "2                салют скажи время московское и местное  \n",
              "3        афина я не хочу чтобы сегодня звонил будильник  \n",
              "4                     салют позвони владимиру петровичу  \n",
              "...                                                 ...  \n",
              "1595                                     афина закройся  \n",
              "1596  джой включить пожалуйста блинк сто восемьдесят...  \n",
              "1597                джой какие виды телепатия ты знаешь  \n",
              "1598                      почему я не нравлюсь девочкам  \n",
              "1599              афина расскажи про германа оскаровича  \n",
              "\n",
              "[1600 rows x 2 columns]"
            ],
            "text/html": [
              "\n",
              "  <div id=\"df-3dea75e2-c60b-4b8b-95ec-914bf23c508e\" class=\"colab-df-container\">\n",
              "    <div>\n",
              "<style scoped>\n",
              "    .dataframe tbody tr th:only-of-type {\n",
              "        vertical-align: middle;\n",
              "    }\n",
              "\n",
              "    .dataframe tbody tr th {\n",
              "        vertical-align: top;\n",
              "    }\n",
              "\n",
              "    .dataframe thead th {\n",
              "        text-align: right;\n",
              "    }\n",
              "</style>\n",
              "<table border=\"1\" class=\"dataframe\">\n",
              "  <thead>\n",
              "    <tr style=\"text-align: right;\">\n",
              "      <th></th>\n",
              "      <th>hypothesis_tiny</th>\n",
              "      <th>reference_tiny</th>\n",
              "    </tr>\n",
              "  </thead>\n",
              "  <tbody>\n",
              "    <tr>\n",
              "      <th>0</th>\n",
              "      <td>Солют, сколько предприятий изъебляются к резин...</td>\n",
              "      <td>салют сколько предприятий являются клиентами с...</td>\n",
              "    </tr>\n",
              "    <tr>\n",
              "      <th>1</th>\n",
              "      <td>Джой надоел.</td>\n",
              "      <td>джой надоел</td>\n",
              "    </tr>\n",
              "    <tr>\n",
              "      <th>2</th>\n",
              "      <td>Солют, скажи время Московской и местные.</td>\n",
              "      <td>салют скажи время московское и местное</td>\n",
              "    </tr>\n",
              "    <tr>\n",
              "      <th>3</th>\n",
              "      <td>Афина, я не хочу, чтобы сегодня звонил Гудвинник.</td>\n",
              "      <td>афина я не хочу чтобы сегодня звонил будильник</td>\n",
              "    </tr>\n",
              "    <tr>\n",
              "      <th>4</th>\n",
              "      <td>Солю позвоню Владимировым Петровичем.</td>\n",
              "      <td>салют позвони владимиру петровичу</td>\n",
              "    </tr>\n",
              "    <tr>\n",
              "      <th>...</th>\n",
              "      <td>...</td>\n",
              "      <td>...</td>\n",
              "    </tr>\n",
              "    <tr>\n",
              "      <th>1595</th>\n",
              "      <td>Афіна закруйся.</td>\n",
              "      <td>афина закройся</td>\n",
              "    </tr>\n",
              "    <tr>\n",
              "      <th>1596</th>\n",
              "      <td>Joguljipa, Jalastro, Blinks, Thomas, Mcdlar, W...</td>\n",
              "      <td>джой включить пожалуйста блинк сто восемьдесят...</td>\n",
              "    </tr>\n",
              "    <tr>\n",
              "      <th>1597</th>\n",
              "      <td>Джой, какие виды селепатия ты знаешь?</td>\n",
              "      <td>джой какие виды телепатия ты знаешь</td>\n",
              "    </tr>\n",
              "    <tr>\n",
              "      <th>1598</th>\n",
              "      <td>Почему я не нравлюсь девушкам?</td>\n",
              "      <td>почему я не нравлюсь девочкам</td>\n",
              "    </tr>\n",
              "    <tr>\n",
              "      <th>1599</th>\n",
              "      <td>Офина, расскажи про Германа Паскара Вича.</td>\n",
              "      <td>афина расскажи про германа оскаровича</td>\n",
              "    </tr>\n",
              "  </tbody>\n",
              "</table>\n",
              "<p>1600 rows × 2 columns</p>\n",
              "</div>\n",
              "    <div class=\"colab-df-buttons\">\n",
              "\n",
              "  <div class=\"colab-df-container\">\n",
              "    <button class=\"colab-df-convert\" onclick=\"convertToInteractive('df-3dea75e2-c60b-4b8b-95ec-914bf23c508e')\"\n",
              "            title=\"Convert this dataframe to an interactive table.\"\n",
              "            style=\"display:none;\">\n",
              "\n",
              "  <svg xmlns=\"http://www.w3.org/2000/svg\" height=\"24px\" viewBox=\"0 -960 960 960\">\n",
              "    <path d=\"M120-120v-720h720v720H120Zm60-500h600v-160H180v160Zm220 220h160v-160H400v160Zm0 220h160v-160H400v160ZM180-400h160v-160H180v160Zm440 0h160v-160H620v160ZM180-180h160v-160H180v160Zm440 0h160v-160H620v160Z\"/>\n",
              "  </svg>\n",
              "    </button>\n",
              "\n",
              "  <style>\n",
              "    .colab-df-container {\n",
              "      display:flex;\n",
              "      gap: 12px;\n",
              "    }\n",
              "\n",
              "    .colab-df-convert {\n",
              "      background-color: #E8F0FE;\n",
              "      border: none;\n",
              "      border-radius: 50%;\n",
              "      cursor: pointer;\n",
              "      display: none;\n",
              "      fill: #1967D2;\n",
              "      height: 32px;\n",
              "      padding: 0 0 0 0;\n",
              "      width: 32px;\n",
              "    }\n",
              "\n",
              "    .colab-df-convert:hover {\n",
              "      background-color: #E2EBFA;\n",
              "      box-shadow: 0px 1px 2px rgba(60, 64, 67, 0.3), 0px 1px 3px 1px rgba(60, 64, 67, 0.15);\n",
              "      fill: #174EA6;\n",
              "    }\n",
              "\n",
              "    .colab-df-buttons div {\n",
              "      margin-bottom: 4px;\n",
              "    }\n",
              "\n",
              "    [theme=dark] .colab-df-convert {\n",
              "      background-color: #3B4455;\n",
              "      fill: #D2E3FC;\n",
              "    }\n",
              "\n",
              "    [theme=dark] .colab-df-convert:hover {\n",
              "      background-color: #434B5C;\n",
              "      box-shadow: 0px 1px 3px 1px rgba(0, 0, 0, 0.15);\n",
              "      filter: drop-shadow(0px 1px 2px rgba(0, 0, 0, 0.3));\n",
              "      fill: #FFFFFF;\n",
              "    }\n",
              "  </style>\n",
              "\n",
              "    <script>\n",
              "      const buttonEl =\n",
              "        document.querySelector('#df-3dea75e2-c60b-4b8b-95ec-914bf23c508e button.colab-df-convert');\n",
              "      buttonEl.style.display =\n",
              "        google.colab.kernel.accessAllowed ? 'block' : 'none';\n",
              "\n",
              "      async function convertToInteractive(key) {\n",
              "        const element = document.querySelector('#df-3dea75e2-c60b-4b8b-95ec-914bf23c508e');\n",
              "        const dataTable =\n",
              "          await google.colab.kernel.invokeFunction('convertToInteractive',\n",
              "                                                    [key], {});\n",
              "        if (!dataTable) return;\n",
              "\n",
              "        const docLinkHtml = 'Like what you see? Visit the ' +\n",
              "          '<a target=\"_blank\" href=https://colab.research.google.com/notebooks/data_table.ipynb>data table notebook</a>'\n",
              "          + ' to learn more about interactive tables.';\n",
              "        element.innerHTML = '';\n",
              "        dataTable['output_type'] = 'display_data';\n",
              "        await google.colab.output.renderOutput(dataTable, element);\n",
              "        const docLink = document.createElement('div');\n",
              "        docLink.innerHTML = docLinkHtml;\n",
              "        element.appendChild(docLink);\n",
              "      }\n",
              "    </script>\n",
              "  </div>\n",
              "\n",
              "\n",
              "<div id=\"df-54e272e2-5547-48a7-a8eb-71651e964c50\">\n",
              "  <button class=\"colab-df-quickchart\" onclick=\"quickchart('df-54e272e2-5547-48a7-a8eb-71651e964c50')\"\n",
              "            title=\"Suggest charts\"\n",
              "            style=\"display:none;\">\n",
              "\n",
              "<svg xmlns=\"http://www.w3.org/2000/svg\" height=\"24px\"viewBox=\"0 0 24 24\"\n",
              "     width=\"24px\">\n",
              "    <g>\n",
              "        <path d=\"M19 3H5c-1.1 0-2 .9-2 2v14c0 1.1.9 2 2 2h14c1.1 0 2-.9 2-2V5c0-1.1-.9-2-2-2zM9 17H7v-7h2v7zm4 0h-2V7h2v10zm4 0h-2v-4h2v4z\"/>\n",
              "    </g>\n",
              "</svg>\n",
              "  </button>\n",
              "\n",
              "<style>\n",
              "  .colab-df-quickchart {\n",
              "      --bg-color: #E8F0FE;\n",
              "      --fill-color: #1967D2;\n",
              "      --hover-bg-color: #E2EBFA;\n",
              "      --hover-fill-color: #174EA6;\n",
              "      --disabled-fill-color: #AAA;\n",
              "      --disabled-bg-color: #DDD;\n",
              "  }\n",
              "\n",
              "  [theme=dark] .colab-df-quickchart {\n",
              "      --bg-color: #3B4455;\n",
              "      --fill-color: #D2E3FC;\n",
              "      --hover-bg-color: #434B5C;\n",
              "      --hover-fill-color: #FFFFFF;\n",
              "      --disabled-bg-color: #3B4455;\n",
              "      --disabled-fill-color: #666;\n",
              "  }\n",
              "\n",
              "  .colab-df-quickchart {\n",
              "    background-color: var(--bg-color);\n",
              "    border: none;\n",
              "    border-radius: 50%;\n",
              "    cursor: pointer;\n",
              "    display: none;\n",
              "    fill: var(--fill-color);\n",
              "    height: 32px;\n",
              "    padding: 0;\n",
              "    width: 32px;\n",
              "  }\n",
              "\n",
              "  .colab-df-quickchart:hover {\n",
              "    background-color: var(--hover-bg-color);\n",
              "    box-shadow: 0 1px 2px rgba(60, 64, 67, 0.3), 0 1px 3px 1px rgba(60, 64, 67, 0.15);\n",
              "    fill: var(--button-hover-fill-color);\n",
              "  }\n",
              "\n",
              "  .colab-df-quickchart-complete:disabled,\n",
              "  .colab-df-quickchart-complete:disabled:hover {\n",
              "    background-color: var(--disabled-bg-color);\n",
              "    fill: var(--disabled-fill-color);\n",
              "    box-shadow: none;\n",
              "  }\n",
              "\n",
              "  .colab-df-spinner {\n",
              "    border: 2px solid var(--fill-color);\n",
              "    border-color: transparent;\n",
              "    border-bottom-color: var(--fill-color);\n",
              "    animation:\n",
              "      spin 1s steps(1) infinite;\n",
              "  }\n",
              "\n",
              "  @keyframes spin {\n",
              "    0% {\n",
              "      border-color: transparent;\n",
              "      border-bottom-color: var(--fill-color);\n",
              "      border-left-color: var(--fill-color);\n",
              "    }\n",
              "    20% {\n",
              "      border-color: transparent;\n",
              "      border-left-color: var(--fill-color);\n",
              "      border-top-color: var(--fill-color);\n",
              "    }\n",
              "    30% {\n",
              "      border-color: transparent;\n",
              "      border-left-color: var(--fill-color);\n",
              "      border-top-color: var(--fill-color);\n",
              "      border-right-color: var(--fill-color);\n",
              "    }\n",
              "    40% {\n",
              "      border-color: transparent;\n",
              "      border-right-color: var(--fill-color);\n",
              "      border-top-color: var(--fill-color);\n",
              "    }\n",
              "    60% {\n",
              "      border-color: transparent;\n",
              "      border-right-color: var(--fill-color);\n",
              "    }\n",
              "    80% {\n",
              "      border-color: transparent;\n",
              "      border-right-color: var(--fill-color);\n",
              "      border-bottom-color: var(--fill-color);\n",
              "    }\n",
              "    90% {\n",
              "      border-color: transparent;\n",
              "      border-bottom-color: var(--fill-color);\n",
              "    }\n",
              "  }\n",
              "</style>\n",
              "\n",
              "  <script>\n",
              "    async function quickchart(key) {\n",
              "      const quickchartButtonEl =\n",
              "        document.querySelector('#' + key + ' button');\n",
              "      quickchartButtonEl.disabled = true;  // To prevent multiple clicks.\n",
              "      quickchartButtonEl.classList.add('colab-df-spinner');\n",
              "      try {\n",
              "        const charts = await google.colab.kernel.invokeFunction(\n",
              "            'suggestCharts', [key], {});\n",
              "      } catch (error) {\n",
              "        console.error('Error during call to suggestCharts:', error);\n",
              "      }\n",
              "      quickchartButtonEl.classList.remove('colab-df-spinner');\n",
              "      quickchartButtonEl.classList.add('colab-df-quickchart-complete');\n",
              "    }\n",
              "    (() => {\n",
              "      let quickchartButtonEl =\n",
              "        document.querySelector('#df-54e272e2-5547-48a7-a8eb-71651e964c50 button');\n",
              "      quickchartButtonEl.style.display =\n",
              "        google.colab.kernel.accessAllowed ? 'block' : 'none';\n",
              "    })();\n",
              "  </script>\n",
              "</div>\n",
              "    </div>\n",
              "  </div>\n"
            ],
            "application/vnd.google.colaboratory.intrinsic+json": {
              "type": "dataframe",
              "variable_name": "data_base",
              "summary": "{\n  \"name\": \"data_base\",\n  \"rows\": 1600,\n  \"fields\": [\n    {\n      \"column\": \"hypothesis_tiny\",\n      \"properties\": {\n        \"dtype\": \"string\",\n        \"num_unique_values\": 1576,\n        \"samples\": [\n          \"\\u0416\\u043e\\u0439, \\u0437\\u0432\\u043e\\u043d\\u0438 \\u0438 \\u043d\\u0435 \\u0432 \\u043b\\u0430\\u0442\\u0438 \\u043c\\u0438\\u0440\\u043e\\u0432\\u043d\\u0435.\",\n          \"\\u0416\\u043e\\u0439 \\u043d\\u0430\\u0434\\u043e \\u0435\\u043b.\",\n          \"\\u0421\\u043e\\u043b\\u0438\\u0442 \\u0432\\u044b\\u043f\\u0435\\u0447\\u0438\\u0441\\u044c \\u0434\\u043e!\"\n        ],\n        \"semantic_type\": \"\",\n        \"description\": \"\"\n      }\n    },\n    {\n      \"column\": \"reference_tiny\",\n      \"properties\": {\n        \"dtype\": \"string\",\n        \"num_unique_values\": 1221,\n        \"samples\": [\n          \"\\u0430\\u0444\\u0438\\u043d\\u0430 \\u043f\\u0435\\u0440\\u0435\\u0437\\u0432\\u043e\\u043d\\u0438 \\u0432\\u0435\\u0440\\u0435 \\u0432\\u0430\\u043b\\u0435\\u0440\\u044c\\u0435\\u0432\\u043d\\u0435 \\u043c\\u0430\\u0445\\u043e\\u0432\\u043e\\u0439\",\n          \"\\u0437\\u0430\\u0447\\u0435\\u043c \\u043a\\u0440\\u0430\\u0441\\u0438\\u0442\\u044c \\u043d\\u043e\\u0433\\u0442\\u0438\",\n          \"\\u0441\\u0431\\u0435\\u0440 \\u043d\\u0430\\u0434\\u043e\\u0435\\u043b\"\n        ],\n        \"semantic_type\": \"\",\n        \"description\": \"\"\n      }\n    }\n  ]\n}"
            }
          },
          "metadata": {},
          "execution_count": 32
        }
      ]
    },
    {
      "cell_type": "markdown",
      "source": [
        "small"
      ],
      "metadata": {
        "id": "XXo7ySMGceY-"
      }
    },
    {
      "cell_type": "code",
      "source": [
        "data_small = pd.DataFrame(dict(hypothesis_small=hypotheses, reference_small=references))"
      ],
      "metadata": {
        "id": "5IKuG2nlcixn"
      },
      "execution_count": null,
      "outputs": []
    },
    {
      "cell_type": "markdown",
      "source": [
        "medium"
      ],
      "metadata": {
        "id": "uCG4l7-icli2"
      }
    },
    {
      "cell_type": "code",
      "source": [
        "data_medium = pd.DataFrame(dict(hypothesis_medium=hypotheses, reference_medium=references))"
      ],
      "metadata": {
        "id": "KCUnvl9-dPnr"
      },
      "execution_count": null,
      "outputs": []
    },
    {
      "cell_type": "code",
      "source": [
        "\n",
        "import re\n",
        "#нормализация текста\n",
        "def normalize_text(text):\n",
        "    if not isinstance(text, str):\n",
        "        text = str(text)\n",
        "\n",
        "    # Удаление знаков пунктуации и преобразование в нижний регистр\n",
        "    text = re.sub(r'[^\\w\\s]', '', text).lower()\n",
        "\n",
        "    # Удаление множественных пробелов\n",
        "    text = re.sub(r'\\s+', ' ', text)\n",
        "\n",
        "    return text.strip()\n",
        "normalized_refs = [normalize_text(ref) for ref in test_dataset[\"transcription\"]]\n",
        "normalized_hyps = [normalize_text(hyp) for hyp in hypotheses]\n",
        "# Вычисление WER с нормализованными транскрипциями\n",
        "wer_score = jiwer.wer(normalized_refs, normalized_hyps)\n",
        "print(f\"\\nWord Error Rate: {wer_score * 100:.2f}%\")"
      ],
      "metadata": {
        "colab": {
          "base_uri": "https://localhost:8080/"
        },
        "id": "twt9ki82c4d9",
        "outputId": "121af856-1d56-4a8c-bc46-9fb4e01853fd"
      },
      "execution_count": null,
      "outputs": [
        {
          "output_type": "stream",
          "name": "stdout",
          "text": [
            "\n",
            "Word Error Rate: 66.88%\n"
          ]
        }
      ]
    },
    {
      "cell_type": "code",
      "source": [
        "data_tiny[\"hypothesis_tiny\"] = [normalize_text(hyp) for hyp in hypotheses]\n",
        "data_tiny[\"reference_tiny\"] = [normalize_text(ref) for ref in test_dataset[\"transcription\"]]\n",
        "data_tiny\n",
        "data_tiny[\"hypothesis_tiny\"] = [normalizer(text) for text in data_tiny[\"hypothesis_tiny\"]]\n",
        "data_tiny[\"reference_tiny\"] = [normalizer(text) for text in data_tiny[\"reference_tiny\"]]\n",
        "wer_tiny = jiwer.wer(list(data_tiny[\"reference_tiny\"]), list(data_tiny[\"hypothesis_tiny\"]))\n",
        "print(f\"wer_tiny: {wer_tiny * 100:.2f} %\")"
      ],
      "metadata": {
        "id": "NYHPmZ5vc6rX"
      },
      "execution_count": null,
      "outputs": []
    },
    {
      "cell_type": "code",
      "source": [
        "data_base[\"hypothesis_base\"] = [normalize_text(hyp) for hyp in hypotheses]\n",
        "data_base[\"reference_base\"] = [normalize_text(ref) for ref in test_dataset[\"transcription\"]]\n",
        "data_base\n",
        "data_base[\"hypothesis_base\"] = [normalizer(text) for text in data_base[\"hypothesis_base\"]]\n",
        "data_base[\"reference_base\"] = [normalizer(text) for text in data_base[\"reference_base\"]]\n",
        "wer_base = jiwer.wer(list(data_base[\"reference_base\"]), list(data_base[\"hypothesis_base\"]))\n",
        "print(f\"wer_base: {wer_base * 100:.2f} %\")"
      ],
      "metadata": {
        "colab": {
          "base_uri": "https://localhost:8080/"
        },
        "id": "pvkXkbqlZzDI",
        "outputId": "2712f49f-b385-4bcc-89ae-4434a978b9a4"
      },
      "execution_count": null,
      "outputs": [
        {
          "output_type": "stream",
          "name": "stdout",
          "text": [
            "wer_base: 66.54 %\n"
          ]
        }
      ]
    },
    {
      "cell_type": "code",
      "source": [
        "data_small[\"hypothesis_small\"] = [normalize_text(hyp) for hyp in hypotheses]\n",
        "data_small[\"reference_small\"] = [normalize_text(ref) for ref in test_dataset[\"transcription\"]]\n",
        "data_small\n",
        "data_small[\"hypothesis_small\"] = [normalizer(text) for text in data_small[\"hypothesis_small\"]]\n",
        "data_small[\"reference_small\"] = [normalizer(text) for text in data_small[\"reference_small\"]]\n",
        "wer_small = jiwer.wer(list(data_small[\"reference_small\"]), list(data_small[\"hypothesis_small\"]))\n",
        "print(f\"wer_small: {wer_small * 100:.2f} %\")"
      ],
      "metadata": {
        "colab": {
          "base_uri": "https://localhost:8080/"
        },
        "id": "FO9l81-nbuO1",
        "outputId": "a3c56d54-cb50-48e0-c5aa-8f21af49aa27"
      },
      "execution_count": null,
      "outputs": [
        {
          "output_type": "stream",
          "name": "stdout",
          "text": [
            "wer_small: 38.08 %\n"
          ]
        }
      ]
    },
    {
      "cell_type": "code",
      "source": [
        "data_medium[\"hypothesis_medium\"] = [normalize_text(hyp) for hyp in hypotheses]\n",
        "data_medium[\"reference_medium\"] = [normalize_text(ref) for ref in test_dataset[\"transcription\"]]\n",
        "data_medium\n",
        "data_medium[\"hypothesis_medium\"] = [normalizer(text) for text in data_medium[\"hypothesis_medium\"]]\n",
        "data_medium[\"reference_medium\"] = [normalizer(text) for text in data_medium[\"reference_medium\"]]\n",
        "wer_medium = jiwer.wer(list(data_medium[\"reference_medium\"]), list(data_medium[\"hypothesis_medium\"]))\n",
        "print(f\"wer_medium: {wer_medium * 100:.2f} %\")"
      ],
      "metadata": {
        "colab": {
          "base_uri": "https://localhost:8080/"
        },
        "id": "G8s4lhC4hWbN",
        "outputId": "f9aa2601-e0d0-4e0e-e9f3-ea3f3a715447"
      },
      "execution_count": null,
      "outputs": [
        {
          "output_type": "stream",
          "name": "stdout",
          "text": [
            "wer_medium: 26.25 %\n"
          ]
        }
      ]
    }
  ]
}