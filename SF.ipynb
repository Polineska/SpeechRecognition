{
  "nbformat": 4,
  "nbformat_minor": 0,
  "metadata": {
    "colab": {
      "provenance": [],
      "authorship_tag": "ABX9TyM35HJsY37DAZ1GgoEFbGCO",
      "include_colab_link": true
    },
    "kernelspec": {
      "name": "python3",
      "display_name": "Python 3"
    },
    "language_info": {
      "name": "python"
    }
  },
  "cells": [
    {
      "cell_type": "markdown",
      "metadata": {
        "id": "view-in-github",
        "colab_type": "text"
      },
      "source": [
        "<a href=\"https://colab.research.google.com/github/Polineska/SpeechRecognition/blob/main/SF.ipynb\" target=\"_parent\"><img src=\"https://colab.research.google.com/assets/colab-badge.svg\" alt=\"Open In Colab\"/></a>"
      ]
    },
    {
      "cell_type": "code",
      "execution_count": null,
      "metadata": {
        "colab": {
          "base_uri": "https://localhost:8080/"
        },
        "id": "g3it1KNbOMN4",
        "outputId": "7a175673-51f1-4334-ceab-b56b7dcc6b05"
      },
      "outputs": [
        {
          "output_type": "stream",
          "name": "stdout",
          "text": [
            "Speed Factor (SF): 0.08\n"
          ]
        }
      ],
      "source": [
        "def calculate_speed_factor(duration, playback_time):\n",
        "\n",
        "    if playback_time <= 0:\n",
        "        raise ValueError(\"Фактическое время воспроизведения должно быть больше 0.\")\n",
        "\n",
        "    speed_factor = duration / playback_time\n",
        "    return speed_factor\n",
        "\n",
        "audio_duration = 5 # Продолжительность записи в секундах\n",
        "actual_playback_time = 66 # Фактическое время воспроизведения в секундах\n",
        "\n",
        "sf = calculate_speed_factor(audio_duration, actual_playback_time)\n",
        "print(f\"SF: {sf:.2f}\")"
      ]
    }
  ]
}