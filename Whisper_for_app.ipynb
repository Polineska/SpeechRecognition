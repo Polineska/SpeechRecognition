{
  "nbformat": 4,
  "nbformat_minor": 0,
  "metadata": {
    "colab": {
      "provenance": [],
      "include_colab_link": true
    },
    "kernelspec": {
      "name": "python3",
      "display_name": "Python 3"
    },
    "language_info": {
      "name": "python"
    }
  },
  "cells": [
    {
      "cell_type": "markdown",
      "metadata": {
        "id": "view-in-github",
        "colab_type": "text"
      },
      "source": [
        "<a href=\"https://colab.research.google.com/github/Polineska/SpeechRecognition/blob/main/Whisper_for_app.ipynb\" target=\"_parent\"><img src=\"https://colab.research.google.com/assets/colab-badge.svg\" alt=\"Open In Colab\"/></a>"
      ]
    },
    {
      "cell_type": "code",
      "execution_count": null,
      "metadata": {
        "id": "AnbXzqfZBexo"
      },
      "outputs": [],
      "source": [
        "!pip install git+https://github.com/openai/whisper.git\n",
        "!sudo apt update && sudo apt install ffmpeg #загрузка актуальной версии whisper"
      ]
    },
    {
      "cell_type": "markdown",
      "source": [
        "Модель \"medium\"\n"
      ],
      "metadata": {
        "id": "6AxpUB-xCYsM"
      }
    },
    {
      "cell_type": "code",
      "source": [
        "import whisper #импортируется модуль whisper\n",
        "model=whisper.load_model('medium') #загружается размер модели small(можно указать любую модель Whisper(base,tiny,small, medium, large))\n",
        "result=model.transcribe('doclad.mp3', fp16=False) #транскрибация файла. Файл необходимо загрузить в colab,раздел \"файлы\". Параметр fp16=False указывает на использование 32-битного числового формата при транскрибировании.\n",
        "result_tiny=result['text'] # Результат работы модели сохраняется в переменную result\n",
        "print(result_tiny)\n"
      ],
      "metadata": {
        "id": "BqcxiesSCFre"
      },
      "execution_count": null,
      "outputs": []
    },
    {
      "cell_type": "markdown",
      "source": [
        "Оптимальный вариант модель medium (по скорости и качеству речи)"
      ],
      "metadata": {
        "id": "8AnDdidZClId"
      }
    }
  ]
}