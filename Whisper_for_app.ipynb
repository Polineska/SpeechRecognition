{
  "nbformat": 4,
  "nbformat_minor": 0,
  "metadata": {
    "colab": {
      "provenance": [],
      "authorship_tag": "ABX9TyP9D8CTrZv+RfhhadS8ToS5",
      "include_colab_link": true
    },
    "kernelspec": {
      "name": "python3",
      "display_name": "Python 3"
    },
    "language_info": {
      "name": "python"
    }
  },
  "cells": [
    {
      "cell_type": "markdown",
      "metadata": {
        "id": "view-in-github",
        "colab_type": "text"
      },
      "source": [
        "<a href=\"https://colab.research.google.com/github/Polineska/SpeechRecognition/blob/main/Whisper_for_app.ipynb\" target=\"_parent\"><img src=\"https://colab.research.google.com/assets/colab-badge.svg\" alt=\"Open In Colab\"/></a>"
      ]
    },
    {
      "cell_type": "code",
      "execution_count": null,
      "metadata": {
        "id": "AnbXzqfZBexo"
      },
      "outputs": [],
      "source": [
        "!pip install git+https://github.com/openai/whisper.git\n",
        "!sudo apt update && sudo apt install ffmpeg"
      ]
    },
    {
      "cell_type": "markdown",
      "source": [
        "Модель \"small\"\n"
      ],
      "metadata": {
        "id": "6AxpUB-xCYsM"
      }
    },
    {
      "cell_type": "code",
      "source": [
        "import whisper\n",
        "model=whisper.load_model('tiny')\n",
        "result=model.transcribe('doclad.mp3', fp16=False)\n",
        "result_tiny=result['text']\n",
        "print(result_tiny)\n"
      ],
      "metadata": {
        "id": "BqcxiesSCFre"
      },
      "execution_count": null,
      "outputs": []
    },
    {
      "cell_type": "markdown",
      "source": [
        "Модель \"medium\""
      ],
      "metadata": {
        "id": "9zR3eFQ7Cbff"
      }
    },
    {
      "cell_type": "code",
      "source": [
        "import whisper\n",
        "model=whisper.load_model('medium')\n",
        "result=model.transcribe('doclad.mp3', fp16=False)\n",
        "result_medium=result['text']\n",
        "print(result_medium)"
      ],
      "metadata": {
        "id": "1nmQlvQfCIna"
      },
      "execution_count": null,
      "outputs": []
    },
    {
      "cell_type": "markdown",
      "source": [
        "Модель \"large\""
      ],
      "metadata": {
        "id": "Nu9h1iR_CccZ"
      }
    },
    {
      "cell_type": "code",
      "source": [
        "import whisper\n",
        "model=whisper.load_model('large')\n",
        "result=model.transcribe('doclad.mp3', fp16=False)\n",
        "result_large=result['text']\n",
        "print(result_large)"
      ],
      "metadata": {
        "id": "iT0zatxRCUF7"
      },
      "execution_count": null,
      "outputs": []
    },
    {
      "cell_type": "markdown",
      "source": [
        "Оптимальный вариант модель base (по скорости и качеству речи)"
      ],
      "metadata": {
        "id": "8AnDdidZClId"
      }
    }
  ]
}
